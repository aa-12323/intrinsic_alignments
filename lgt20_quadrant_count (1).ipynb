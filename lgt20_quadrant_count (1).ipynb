{
 "cells": [
  {
   "cell_type": "code",
   "execution_count": 1,
   "metadata": {},
   "outputs": [],
   "source": [
    "import fitsio as fio\n",
    "import numpy as np\n",
    "import matplotlib.pyplot as plt\n",
    "import scipy.stats as stats"
   ]
  },
  {
   "cell_type": "code",
   "execution_count": 2,
   "metadata": {},
   "outputs": [],
   "source": [
    "cent = fio.FITS('/lsst/troxel/y1a1/lgt20_central_p20.fits')[-1] # Central galaxy catalog (with shapes)\n",
    "sat = fio.FITS('/lsst/troxel/y1a1/lgt20_satellite_p20.fits')[-1] # Satellite p_mem >= 0.2 catalog"
   ]
  },
  {
   "cell_type": "code",
   "execution_count": 3,
   "metadata": {},
   "outputs": [],
   "source": [
    "sat_id_unq, counts = np.unique(sat['MEM_MATCH_ID'].read(), return_counts=True)\n",
    "clus_n = len(sat_id_unq)\n",
    "sat_max = np.amax(counts)"
   ]
  },
  {
   "cell_type": "code",
   "execution_count": 4,
   "metadata": {},
   "outputs": [],
   "source": [
    "# Create 2D array for specified property of all satellite galaxies\n",
    "def sat_prop(prop):\n",
    "    sat_prop_full = sat[prop].read()\n",
    "    new_array = np.zeros((clus_n,sat_max))\n",
    "    k = 0\n",
    "    for i in range(clus_n):\n",
    "        new_array[i, 0:counts[i]] = sat_prop_full[k:k+counts[i]]\n",
    "        new_array[i, counts[i]:] = np.nan\n",
    "        k = k + counts[i]\n",
    "    \n",
    "    return new_array"
   ]
  },
  {
   "cell_type": "code",
   "execution_count": 5,
   "metadata": {},
   "outputs": [],
   "source": [
    "# Calculate satellite angular position for all clusters\n",
    "def sat_ang_pos():\n",
    "    sat_ra = np.radians(sat_prop('RA'))\n",
    "    sat_dec = np.radians(sat_prop('DEC'))\n",
    "    cent_ra = np.radians(cent['RA'].read().reshape(clus_n,-1))\n",
    "    cent_dec = np.radians(cent['DEC'].read().reshape(clus_n,-1))\n",
    "    x = np.sin(sat_dec) * np.cos(cent_dec) - np.cos(sat_dec) * np.sin(cent_dec) * np.cos(sat_ra-cent_ra)\n",
    "    y = np.sin(sat_ra-cent_ra) * np.cos(sat_dec)\n",
    "    theta = np.arctan2(y, x)\n",
    "    \n",
    "    return theta"
   ]
  },
  {
   "cell_type": "code",
   "execution_count": 6,
   "metadata": {},
   "outputs": [],
   "source": [
    "# Count satellite galaxies in each quadrant with specified axis angle\n",
    "#def q_counts(theta):\n",
    "    #sat_pos = np.degrees(sat_ang_pos()) + 180\n",
    "    #nan_mask = np.isnan(sat_pos)\n",
    "    #sat_pos[nan_mask] = 999.\n",
    "    #theta = theta + 180\n",
    "    #q1_count = np.sum(np.logical_and(np.less_equal(theta-180, sat_pos), np.less(sat_pos, theta-90)), axis=1)\n",
    "    #q2_count = np.sum(np.logical_and(np.less_equal(theta-90, sat_pos), np.less(sat_pos, theta)), axis=1)\n",
    "    #q3_count = np.sum(np.logical_and(np.less_equal(theta, sat_pos), np.less(sat_pos, theta+90)), axis=1)\n",
    "    #q4_count = np.sum(np.logical_and(np.less_equal(theta+90, sat_pos), np.less(sat_pos, theta+180)), axis=1)\n",
    "    #\n",
    "    #return np.array([q1_count, q2_count, q3_count, q4_count])"
   ]
  },
  {
   "cell_type": "code",
   "execution_count": 7,
   "metadata": {},
   "outputs": [],
   "source": [
    "def q_counts(theta):\n",
    "    theta = np.radians(theta)\n",
    "    sat_pos = sat_ang_pos()\n",
    "    nan_mask = np.isnan(sat_pos)\n",
    "    dif = sat_pos - theta\n",
    "    x = np.cos(dif)\n",
    "    y = np.sin(dif)\n",
    "    x[nan_mask] = 0\n",
    "    y[nan_mask] = 0\n",
    "    q1 = np.sum(np.logical_and(x>0, y>0), axis=1)\n",
    "    q2 = np.sum(np.logical_and(x<0, y>0), axis=1)\n",
    "    q3 = np.sum(np.logical_and(x<0, y<0), axis=1)\n",
    "    q4 = np.sum(np.logical_and(x>0, y<0), axis=1)\n",
    "    \n",
    "    return np.array([q1, q2, q3, q4])"
   ]
  },
  {
   "cell_type": "code",
   "execution_count": 8,
   "metadata": {},
   "outputs": [],
   "source": [
    "def q_std(theta):\n",
    "    q_i = q_counts(theta)\n",
    "    std = np.std(q_i, axis=0)\n",
    "    \n",
    "    return std"
   ]
  },
  {
   "cell_type": "code",
   "execution_count": 9,
   "metadata": {},
   "outputs": [],
   "source": [
    "def q_array(n):\n",
    "    new_array = np.zeros((n, clus_n))\n",
    "    for i in range(n):\n",
    "        std_i = q_std(90*i/n)\n",
    "        new_array[i] = std_i\n",
    "    \n",
    "    return new_array"
   ]
  },
  {
   "cell_type": "code",
   "execution_count": 10,
   "metadata": {},
   "outputs": [],
   "source": [
    "def q_array_2(n):\n",
    "    new_array = np.zeros((n, clus_n))\n",
    "    for i in range(n):\n",
    "        std_i = q_std(90*i/n+45)\n",
    "        new_array[i] = std_i\n",
    "    \n",
    "    return new_array"
   ]
  },
  {
   "cell_type": "code",
   "execution_count": 11,
   "metadata": {},
   "outputs": [],
   "source": [
    "def q_axis(n):\n",
    "    std_array = q_array(n)\n",
    "    std_sort = np.argmin(std_array, axis=0)\n",
    "    n_ang = np.arange(n)*90/n\n",
    "    thetas = n_ang[std_sort]\n",
    "    \n",
    "    return thetas"
   ]
  },
  {
   "cell_type": "code",
   "execution_count": 12,
   "metadata": {},
   "outputs": [],
   "source": [
    "def q_axis_dif(n):\n",
    "    std_1 = q_array(n)\n",
    "    std_2 = q_array_2(n)\n",
    "    std_dif = std_2 - std_1\n",
    "    dif_min = np.amin(std_dif, axis=0)\n",
    "    mask = std_dif==dif_min\n",
    "    min_counts = np.sum(mask, axis=0)\n",
    "    unq = np.sum(min_counts==1)\n",
    "    print(unq)\n",
    "    std_sort = np.argmax(std_dif, axis=0)\n",
    "    n_ang = np.arange(n)*90/n\n",
    "    thetas = n_ang[std_sort]\n",
    "    \n",
    "    return thetas"
   ]
  },
  {
   "cell_type": "code",
   "execution_count": 13,
   "metadata": {},
   "outputs": [],
   "source": [
    "def q_rand(n):\n",
    "    std_array = q_array(n)\n",
    "    std_min = np.amin(std_array, axis=0)\n",
    "    mask = std_array==std_min\n",
    "    min_count = np.sum(mask, axis=0)\n",
    "    rand = np.random.random(clus_n)\n",
    "    rand_min = np.rint((min_count-1)*rand).astype(int)\n",
    "    mask_t = np.transpose(mask)\n",
    "    n_clus, indeces = np.where(mask_t)\n",
    "    shift = np.zeros(clus_n, dtype=int)\n",
    "    shift[1:] = np.cumsum(min_count[:-1], dtype=int)\n",
    "    rand_select = rand_min + shift\n",
    "    std_sort = indeces[rand_select]\n",
    "    n_ang = np.arange(n)*90/n\n",
    "    thetas = n_ang[std_sort]\n",
    "    \n",
    "    return thetas"
   ]
  },
  {
   "cell_type": "code",
   "execution_count": 14,
   "metadata": {},
   "outputs": [],
   "source": [
    "def q_dif_rand(n):\n",
    "    std_1 = q_array(n)\n",
    "    std_2 = q_array_2(n)\n",
    "    std_dif = std_2 - std_1\n",
    "    std_min = np.amax(std_dif, axis=0)\n",
    "    mask = std_dif==std_min\n",
    "    max_count = np.sum(mask, axis=0)\n",
    "    rand = np.random.random(clus_n)\n",
    "    rand_max = np.rint((max_count-1)*rand).astype(int)\n",
    "    mask_t = np.transpose(mask)\n",
    "    n_clus, indeces = np.where(mask_t)\n",
    "    shift = np.zeros(clus_n, dtype=int)\n",
    "    shift[1:] = np.cumsum(max_count[:-1], dtype=int)\n",
    "    rand_select = rand_max + shift\n",
    "    std_sort = indeces[rand_select]\n",
    "    n_ang = np.arange(n)*90/n\n",
    "    thetas = n_ang[std_sort]\n",
    "    \n",
    "    return thetas"
   ]
  },
  {
   "cell_type": "code",
   "execution_count": 15,
   "metadata": {},
   "outputs": [],
   "source": [
    "def q_major(n):\n",
    "    q_axes = q_axis_dif(n)\n",
    "    q_a = q_axes\n",
    "    for i in range(n):\n",
    "        mask = q_axes==90*i/n\n",
    "        q_i = q_counts(90*i/n+45)\n",
    "        comp = (q_i[0] + q_i[2]) - (q_i[1] + q_i[3])\n",
    "        a_mask = comp > 0\n",
    "        b_mask = np.logical_and(mask, a_mask)\n",
    "        q_a[b_mask] = q_a[b_mask] - 90\n",
    "    \n",
    "    return q_a"
   ]
  },
  {
   "cell_type": "code",
   "execution_count": 16,
   "metadata": {},
   "outputs": [],
   "source": [
    "def q_major_rand(n):\n",
    "    q_axes = q_rand(n)\n",
    "    q_a = q_axes\n",
    "    for i in range(n):\n",
    "        mask = q_axes==90*i/n\n",
    "        q_i = q_counts(90*i/n+45)\n",
    "        comp = (q_i[0] + q_i[2]) - (q_i[1] + q_i[3])\n",
    "        a_mask = comp > 0\n",
    "        b_mask = np.logical_and(mask, a_mask)\n",
    "        q_a[b_mask] = q_a[b_mask] - 90\n",
    "    \n",
    "    return q_a"
   ]
  },
  {
   "cell_type": "code",
   "execution_count": 17,
   "metadata": {},
   "outputs": [],
   "source": [
    "def q_major_dif_rand(n):\n",
    "    q_axes = q_dif_rand(n)\n",
    "    q_a = q_axes\n",
    "    for i in range(n):\n",
    "        mask = q_axes==90*i/n\n",
    "        q_i = q_counts(90*i/n+45)\n",
    "        comp = (q_i[0] + q_i[2]) - (q_i[1] + q_i[3])\n",
    "        a_mask = comp > 0\n",
    "        b_mask = np.logical_and(mask, a_mask)\n",
    "        q_a[b_mask] = q_a[b_mask] - 90\n",
    "    \n",
    "    return q_a"
   ]
  },
  {
   "cell_type": "code",
   "execution_count": 18,
   "metadata": {},
   "outputs": [],
   "source": [
    "def pos_ang(e1, e2):\n",
    "    alpha = np.arctan2(-e2, -e1) / 2\n",
    "    \n",
    "    return alpha"
   ]
  },
  {
   "cell_type": "code",
   "execution_count": 19,
   "metadata": {},
   "outputs": [],
   "source": [
    "def clus_align_ang(n):\n",
    "    clus_ang = np.radians(q_major(n))\n",
    "    cent_ang = pos_ang(cent['e1'].read(), cent['e2'].read())\n",
    "    delta = clus_ang - cent_ang\n",
    "    delta = np.arcsin(np.abs(np.sin(delta)))\n",
    "    delta = np.degrees(delta)\n",
    "    \n",
    "    return delta"
   ]
  },
  {
   "cell_type": "code",
   "execution_count": 20,
   "metadata": {},
   "outputs": [],
   "source": [
    "def clus_align_rand(n):\n",
    "    clus_ang = np.radians(q_major_rand(n))\n",
    "    cent_ang = pos_ang(cent['e1'].read(), cent['e2'].read())\n",
    "    delta = clus_ang - cent_ang\n",
    "    delta = np.arcsin(np.abs(np.sin(delta)))\n",
    "    delta = np.degrees(delta)\n",
    "    \n",
    "    return delta"
   ]
  },
  {
   "cell_type": "code",
   "execution_count": 21,
   "metadata": {},
   "outputs": [],
   "source": [
    "def clus_align_dif_rand(n):\n",
    "    clus_ang = np.radians(q_major_dif_rand(n))\n",
    "    cent_ang = pos_ang(cent['e1'].read(), cent['e2'].read())\n",
    "    delta = clus_ang - cent_ang\n",
    "    delta = np.arcsin(np.abs(np.sin(delta)))\n",
    "    delta = np.degrees(delta)\n",
    "    \n",
    "    return delta"
   ]
  },
  {
   "cell_type": "code",
   "execution_count": 22,
   "metadata": {},
   "outputs": [
    {
     "name": "stdout",
     "output_type": "stream",
     "text": [
      "16339\n"
     ]
    },
    {
     "data": {
      "image/png": "[encoded data removed]",
      "text/plain": [
       "<Figure size 432x288 with 1 Axes>"
      ]
     },
     "metadata": {
      "needs_background": "light"
     },
     "output_type": "display_data"
    }
   ],
   "source": [
    "# Plot histogram of cluster alignment angle (with standard error of the mean)\n",
    "clus_align = clus_align_ang(10)\n",
    "n, bins = np.histogram(clus_align, bins=[0.,9.,18.,27.,36.,45.,54.,63.,72.,81., 90.])\n",
    "k = 0\n",
    "new_array = np.zeros(10)\n",
    "for i in range(10):\n",
    "    bin_i = clus_align[k:k+n[i]]\n",
    "    std_i = np.std(bin_i)\n",
    "    sem_i = std_i/np.sqrt(n[i])\n",
    "    new_array[i] = sem_i\n",
    "    k = k + n[i]\n",
    "plt.errorbar(bins[0:10]+4.5, n/clus_n, yerr=new_array/clus_n, fmt='bo', capsize=4)\n",
    "plt.xlabel('Position Angle Difference')\n",
    "plt.ylabel('Fraction of Clusters')\n",
    "plt.show()"
   ]
  },
  {
   "cell_type": "code",
   "execution_count": null,
   "metadata": {},
   "outputs": [],
   "source": [
    "# Plot histogram of cluster alignment angle (with standard error of the mean)\n",
    "clus_align = clus_align_rand(90)\n",
    "n, bins = np.histogram(clus_align, bins=[0.,9.,18.,27.,36.,45.,54.,63.,72.,81., 90.])\n",
    "k = 0\n",
    "new_array = np.zeros(10)\n",
    "for i in range(10):\n",
    "    bin_i = clus_align[k:k+n[i]]\n",
    "    std_i = np.std(bin_i)\n",
    "    sem_i = std_i/np.sqrt(n[i])\n",
    "    new_array[i] = sem_i\n",
    "    k = k + n[i]\n",
    "plt.errorbar(bins[0:10]+4.5, n/clus_n, yerr=new_array/clus_n, fmt='bo', capsize=4)\n",
    "plt.xlabel('Position Angle Difference')\n",
    "plt.ylabel('Fraction of Clusters')\n",
    "plt.show()"
   ]
  },
  {
   "cell_type": "code",
   "execution_count": null,
   "metadata": {},
   "outputs": [],
   "source": [
    "# Plot histogram of cluster alignment angle (with standard error of the mean)\n",
    "clus_align = clus_align_dif_rand(90)\n",
    "n, bins = np.histogram(clus_align, bins=[0.,9.,18.,27.,36.,45.,54.,63.,72.,81., 90.])\n",
    "k = 0\n",
    "new_array = np.zeros(10)\n",
    "for i in range(10):\n",
    "    bin_i = clus_align[k:k+n[i]]\n",
    "    std_i = np.std(bin_i)\n",
    "    sem_i = std_i/np.sqrt(n[i])\n",
    "    new_array[i] = sem_i\n",
    "    k = k + n[i]\n",
    "plt.errorbar(bins[0:10]+4.5, n/clus_n, yerr=new_array/clus_n, fmt='bo', capsize=4)\n",
    "plt.xlabel('Position Angle Difference')\n",
    "plt.ylabel('Fraction of Clusters')\n",
    "plt.show()"
   ]
  },
  {
   "cell_type": "code",
   "execution_count": null,
   "metadata": {},
   "outputs": [],
   "source": [
    "q_90_dif_rand = q_major_dif_rand(90)\n",
    "n, bins, patches = plt.hist(q_90_dif_rand)\n",
    "plt.show"
   ]
  },
  {
   "cell_type": "code",
   "execution_count": null,
   "metadata": {},
   "outputs": [],
   "source": [
    "np.mean(clus_align)"
   ]
  },
  {
   "cell_type": "code",
   "execution_count": null,
   "metadata": {},
   "outputs": [],
   "source": []
  }
 ],
 "metadata": {
  "kernelspec": {
   "display_name": "Python 3",
   "language": "python",
   "name": "python3"
  },
  "language_info": {
   "codemirror_mode": {
    "name": "ipython",
    "version": 3
   },
   "file_extension": ".py",
   "mimetype": "text/x-python",
   "name": "python",
   "nbconvert_exporter": "python",
   "pygments_lexer": "ipython3",
   "version": "3.7.2"
  }
 },
 "nbformat": 4,
 "nbformat_minor": 2
}
