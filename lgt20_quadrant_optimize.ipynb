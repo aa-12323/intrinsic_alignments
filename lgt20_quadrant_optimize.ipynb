{
 "cells": [
  {
   "cell_type": "code",
   "execution_count": 1,
   "metadata": {},
   "outputs": [],
   "source": [
    "import numpy as np\n",
    "import fitsio as fio\n",
    "import matplotlib.pyplot as plt\n",
    "import scipy.stats as stats\n",
    "import scipy.optimize as opt"
   ]
  },
  {
   "cell_type": "code",
   "execution_count": 2,
   "metadata": {},
   "outputs": [],
   "source": [
    "cent = fio.FITS('/lsst/troxel/y1a1/lgt20_central_p20_fmasked.fits')[-1] # Central galaxy catalog (with shapes)\n",
    "sat = fio.FITS('/lsst/troxel/y1a1/lgt20_satellite_p20_fmasked.fits')[-1] # Satellite p_mem >= 0.2 catalog"
   ]
  },
  {
   "cell_type": "code",
   "execution_count": 3,
   "metadata": {},
   "outputs": [],
   "source": [
    "sat_id_unq, counts = np.unique(sat['MEM_MATCH_ID'].read(), return_counts=True)\n",
    "clus_n = len(sat_id_unq) # Number of clusters\n",
    "sat_max = np.amax(counts) # Maximum number of satellites in a cluster"
   ]
  },
  {
   "cell_type": "code",
   "execution_count": 4,
   "metadata": {},
   "outputs": [],
   "source": [
    "# Create 2D array for specified property of all satellite galaxies\n",
    "def sat_prop(prop):\n",
    "    sat_prop_full = sat[prop].read()\n",
    "    new_array = np.zeros((clus_n,sat_max))\n",
    "    k = 0\n",
    "    for i in range(clus_n):\n",
    "        new_array[i, 0:counts[i]] = sat_prop_full[k:k+counts[i]]\n",
    "        new_array[i, counts[i]:] = np.nan\n",
    "        k = k + counts[i]\n",
    "    \n",
    "    return new_array"
   ]
  },
  {
   "cell_type": "code",
   "execution_count": 5,
   "metadata": {},
   "outputs": [],
   "source": [
    "# Calculate satellite angular position (in radians) for all clusters\n",
    "def sat_ang_pos():\n",
    "    sat_ra = np.radians(sat_prop('RA'))\n",
    "    sat_dec = np.radians(sat_prop('DEC'))\n",
    "    cent_ra = np.radians(cent['RA'].read().reshape((clus_n,-1)))\n",
    "    cent_dec = np.radians(cent['DEC'].read().reshape((clus_n,-1)))\n",
    "    x = np.sin(sat_dec) * np.cos(cent_dec) - np.cos(sat_dec) * np.sin(cent_dec) * np.cos(sat_ra-cent_ra)\n",
    "    y = np.sin(sat_ra-cent_ra) * np.cos(sat_dec)\n",
    "    theta = np.arctan2(y, x)\n",
    "    \n",
    "    return theta"
   ]
  },
  {
   "cell_type": "code",
   "execution_count": 6,
   "metadata": {},
   "outputs": [],
   "source": [
    "sat_pos = sat_ang_pos() # Store satellite angular positions"
   ]
  },
  {
   "cell_type": "code",
   "execution_count": 7,
   "metadata": {},
   "outputs": [],
   "source": [
    "# Calculate number of satellites in each quadrant with respect to input angle (in degrees) for all clusters\n",
    "def q_counts(theta):\n",
    "    theta = np.radians(theta)\n",
    "    nan_mask = np.isnan(sat_pos)\n",
    "    dif = sat_pos - theta\n",
    "    x = np.cos(dif)\n",
    "    y = np.sin(dif)\n",
    "    x[nan_mask] = 0\n",
    "    y[nan_mask] = 0\n",
    "    q1 = np.sum(np.logical_and(x>0, y>0), axis=1)\n",
    "    q2 = np.sum(np.logical_and(x<0, y>0), axis=1)\n",
    "    q3 = np.sum(np.logical_and(x<0, y<0), axis=1)\n",
    "    q4 = np.sum(np.logical_and(x>0, y<0), axis=1)\n",
    "    \n",
    "    return np.array([q1, q2, q3, q4])"
   ]
  },
  {
   "cell_type": "code",
   "execution_count": 8,
   "metadata": {},
   "outputs": [],
   "source": [
    "# Calculate q1 + q3 - (q2 + q4) for all clusters, positive indicates cluster PA is in positive direction relative to theta\n",
    "def q_dif(theta):\n",
    "    q_i = q_counts(theta)\n",
    "    dif = q_i[0] + q_i[2] - q_i[1] - q_i[3]\n",
    "    \n",
    "    return dif"
   ]
  },
  {
   "cell_type": "code",
   "execution_count": 9,
   "metadata": {},
   "outputs": [],
   "source": [
    "# Calculate dif for angles 0 to 90 (not including 90) with n steps\n",
    "def q_array(n):\n",
    "    new_array = np.zeros((n, clus_n))\n",
    "    for i in range(n):\n",
    "        dif_i = q_dif(90*i/n)\n",
    "        new_array[i] = dif_i\n",
    "    \n",
    "    return new_array"
   ]
  },
  {
   "cell_type": "code",
   "execution_count": 35,
   "metadata": {},
   "outputs": [],
   "source": [
    "model = counts_test/np.pi*(np.arctan2(ratio_test*np.sin(theta_test-phase_test+np.pi/2),np.cos(theta_test-phase_test+np.pi/2))-\n",
    "                           np.arctan2(ratio_test*np.sin(theta_test-phase_test),np.cos(theta_test-phase_test)))"
   ]
  },
  {
   "cell_type": "code",
   "execution_count": 38,
   "metadata": {},
   "outputs": [
    {
     "data": {
      "image/png": "[encoded data removed]",
      "text/plain": [
       "<Figure size 432x288 with 1 Axes>"
      ]
     },
     "metadata": {
      "needs_background": "light"
     },
     "output_type": "display_data"
    }
   ],
   "source": [
    "theta_test = np.radians(np.arange(-90., 100., 10))\n",
    "phase_test = 0.\n",
    "ratio_test = 2.\n",
    "counts_test = 100.\n",
    "model_test = counts_test/(2*np.pi)*(np.arctan2(ratio_test*np.sin(theta_test-phase_test+np.pi/2),np.cos(theta_test-phase_test+np.pi/2))+\n",
    "                                     np.arctan2(ratio_test*np.sin(theta_test-phase_test-np.pi/2),np.cos(theta_test-phase_test-np.pi/2))-\n",
    "                                     2*np.arctan2(ratio_test*np.sin(theta_test-phase_test),np.cos(theta_test-phase_test)))\n",
    "plt.plot(theta_test, model_test)\n",
    "plt.show()"
   ]
  },
  {
   "cell_type": "code",
   "execution_count": 13,
   "metadata": {},
   "outputs": [],
   "source": [
    "n = 10\n",
    "q_n_array = q_array(n)\n",
    "theta_n = np.radians(np.arange(n)*90/n)"
   ]
  },
  {
   "cell_type": "code",
   "execution_count": 14,
   "metadata": {},
   "outputs": [],
   "source": [
    "def chisqfunc(x, clus_i):\n",
    "    \"\"\"\n",
    "    Calculate chi squared for model fit. Input: phase and ratio. Returns chisq.\n",
    "    \"\"\"\n",
    "    phase, ratio = x\n",
    "    theta        = theta_n\n",
    "    model        = counts[clus_i]/(2*np.pi)*(np.arctan2(ratio*np.sin(theta-phase+np.pi/2),np.cos(theta-phase+np.pi/2))+\n",
    "                                             np.arctan2(ratio*np.sin(theta-phase-np.pi/2),np.cos(theta-phase-np.pi/2))-\n",
    "                                             2*np.arctan2(ratio*np.sin(theta-phase),np.cos(theta-phase)))\n",
    "    data         = q_n_array[:,clus_i]\n",
    "    variance     = 1./np.sqrt(counts[clus_i]/n)\n",
    "    chisq        = np.sum((data-model)**2/variance)\n",
    "    \n",
    "    return chisq"
   ]
  },
  {
   "cell_type": "code",
   "execution_count": 15,
   "metadata": {},
   "outputs": [],
   "source": [
    "def chisq_opt(clus_i):\n",
    "    \"\"\"\n",
    "    Optimize chisqfunc over phase and ratio. Input: number of angle steps and cluster index. Returns opt result.\n",
    "    \"\"\"\n",
    "    x0 = np.array([np.pi/4, 1.])\n",
    "    bounds = ((0, np.pi/2.), (0., 10.))\n",
    "    result = opt.minimize(chisqfunc, x0, clus_i, bounds=bounds)\n",
    "    \n",
    "    return result"
   ]
  },
  {
   "cell_type": "code",
   "execution_count": 16,
   "metadata": {},
   "outputs": [],
   "source": [
    "def chisq_opt_iter():\n",
    "    \"\"\"\n",
    "    Iterate chi squared optimization over all clusters. Returns clus_n by 2 array with each row containing phase, ratio\n",
    "    \"\"\"\n",
    "    new_array = np.zeros((clus_n, 2))\n",
    "    for i in range(clus_n):\n",
    "        phase_i, ratio_i = chisq_opt(i).x\n",
    "        new_array[i] = np.array([phase_i, ratio_i])\n",
    "    \n",
    "    return new_array"
   ]
  },
  {
   "cell_type": "code",
   "execution_count": 17,
   "metadata": {},
   "outputs": [],
   "source": [
    "def clus_pa():\n",
    "    opt_array = chisq_opt_iter()\n",
    "    r_mask = opt_array[:,1] < 1\n",
    "    opt_array[r_mask,0] = opt_array[r_mask,0] - np.pi/2\n",
    "    beta = opt_array[:,0]\n",
    "    \n",
    "    return beta"
   ]
  },
  {
   "cell_type": "code",
   "execution_count": 18,
   "metadata": {},
   "outputs": [],
   "source": [
    "# Calculate position angle\n",
    "def pos_ang(e1, e2):\n",
    "    alpha = np.arctan2(-e2, -e1) / 2\n",
    "    \n",
    "    return alpha"
   ]
  },
  {
   "cell_type": "code",
   "execution_count": 19,
   "metadata": {},
   "outputs": [],
   "source": [
    "def clus_align_ang():\n",
    "    clus_ang = clus_pa()\n",
    "    cent_ang = pos_ang(cent['e1'].read(), cent['e2'].read())\n",
    "    delta = clus_ang - cent_ang\n",
    "    delta = np.arcsin(np.abs(np.sin(delta)))\n",
    "    delta = np.degrees(delta)\n",
    "    \n",
    "    return delta"
   ]
  },
  {
   "cell_type": "code",
   "execution_count": 20,
   "metadata": {},
   "outputs": [
    {
     "data": {
      "image/png": "[encoded data removed]",
      "text/plain": [
       "<Figure size 360x288 with 1 Axes>"
      ]
     },
     "metadata": {
      "needs_background": "light"
     },
     "output_type": "display_data"
    }
   ],
   "source": [
    "# Plot histogram of cluster alignment angle (with standard error of the mean)\n",
    "clus_align = clus_align_ang()\n",
    "n, bins = np.histogram(clus_align, bins=[0.,9.,18.,27.,36.,45.,54.,63.,72.,81., 90.])\n",
    "k = 0\n",
    "new_array = np.zeros(10)\n",
    "for i in range(10):\n",
    "    bin_i = clus_align[k:k+n[i]]\n",
    "    std_i = np.std(bin_i)\n",
    "    sem_i = std_i/np.sqrt(n[i])\n",
    "    new_array[i] = sem_i\n",
    "    k = k + n[i]\n",
    "plt.errorbar(bins[0:10]+4.5, n/clus_n, yerr=new_array/clus_n, fmt='bo', capsize=4)\n",
    "plt.xlabel(r'PA Difference by Quadrant Gr ($\\degree$)')\n",
    "plt.ylabel('Fraction of Clusters')\n",
    "plt.text(10, 0.07, '$mean=39.33\\degree$')\n",
    "plt.xlim(0, 90)\n",
    "plt.ylim(0.06, 0.16)\n",
    "f = plt.gcf()\n",
    "f.set_size_inches(5., 4.)\n",
    "plt.show()"
   ]
  },
  {
   "cell_type": "code",
   "execution_count": 21,
   "metadata": {},
   "outputs": [
    {
     "data": {
      "text/plain": [
       "array([0.14169134, 0.13361069, 0.11960957, 0.10840867, 0.0974478 ,\n",
       "       0.08928714, 0.08208657, 0.07720618, 0.07656613, 0.07408593])"
      ]
     },
     "execution_count": 21,
     "metadata": {},
     "output_type": "execute_result"
    }
   ],
   "source": [
    "n/clus_n"
   ]
  },
  {
   "cell_type": "code",
   "execution_count": 22,
   "metadata": {},
   "outputs": [
    {
     "data": {
      "image/png": "[encoded data removed]",
      "text/plain": [
       "<Figure size 432x288 with 1 Axes>"
      ]
     },
     "metadata": {
      "needs_background": "light"
     },
     "output_type": "display_data"
    }
   ],
   "source": [
    "clus_ang = clus_pa()\n",
    "plt.hist(clus_ang)\n",
    "plt.show()"
   ]
  },
  {
   "cell_type": "code",
   "execution_count": 23,
   "metadata": {},
   "outputs": [
    {
     "data": {
      "text/plain": [
       "39.049144691464164"
      ]
     },
     "execution_count": 23,
     "metadata": {},
     "output_type": "execute_result"
    }
   ],
   "source": [
    "np.mean(clus_align)"
   ]
  },
  {
   "cell_type": "code",
   "execution_count": 24,
   "metadata": {},
   "outputs": [
    {
     "data": {
      "image/png": "[encoded data removed]",
      "text/plain": [
       "<Figure size 432x288 with 1 Axes>"
      ]
     },
     "metadata": {
      "needs_background": "light"
     },
     "output_type": "display_data"
    }
   ],
   "source": [
    "i = 0\n",
    "phase_i, ratio_i = chisq_opt(0).x\n",
    "model_i = counts[i]/(2*np.pi)*(np.arctan2(ratio_i*np.sin(theta_n-phase_i+np.pi/2),np.cos(theta_n-phase_i+np.pi/2))+\n",
    "                                             np.arctan2(ratio_i*np.sin(theta_n-phase_i-np.pi/2),np.cos(theta_n-phase_i-np.pi/2))-\n",
    "                                             2*np.arctan2(ratio_i*np.sin(theta_n-phase_i),np.cos(theta_n-phase_i)))\n",
    "plt.plot(np.rad2deg(theta_n), q_n_array[:,i], 'bo', label='Data')\n",
    "plt.plot(np.rad2deg(theta_n), model_i, label='Model')\n",
    "plt.xlabel(r'$\\theta$')\n",
    "plt.ylabel(r'Count Difference $m(\\theta)$')\n",
    "plt.legend()\n",
    "plt.show()"
   ]
  },
  {
   "cell_type": "code",
   "execution_count": null,
   "metadata": {},
   "outputs": [],
   "source": [
    "fio.write('/lsst/troxel/y1a1/lgt20_clus_ang_quad.fits', clus_ang, clobber=True)"
   ]
  }
 ],
 "metadata": {
  "kernelspec": {
   "display_name": "Python 3",
   "language": "python",
   "name": "python3"
  },
  "language_info": {
   "codemirror_mode": {
    "name": "ipython",
    "version": 3
   },
   "file_extension": ".py",
   "mimetype": "text/x-python",
   "name": "python",
   "nbconvert_exporter": "python",
   "pygments_lexer": "ipython3",
   "version": "3.7.2"
  }
 },
 "nbformat": 4,
 "nbformat_minor": 2
}
