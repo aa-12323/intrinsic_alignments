{
 "cells": [
  {
   "cell_type": "code",
   "execution_count": 54,
   "metadata": {},
   "outputs": [],
   "source": [
    "import fitsio as fio\n",
    "from astropy.cosmology import FlatLambdaCDM\n",
    "from astropy import units as u\n",
    "from astropy.coordinates import SkyCoord\n",
    "import numpy as np\n",
    "import matplotlib.pyplot as plt"
   ]
  },
  {
   "cell_type": "code",
   "execution_count": 55,
   "metadata": {},
   "outputs": [],
   "source": [
    "mem = fio.FITS('/lsst/troxel/y1a1/lgt5_member_mcal_combined.fits')[-1] # Member/shape catalog\n",
    "clus = fio.FITS('/lsst/troxel/y1a1/y1a1_gold_1.0.3-d10-mof-001d_run_redmapper_v6.4.17_lgt5_desformat_catalog.fit')[-1] # Cluster catalog\n",
    "cent = fio.FITS('/lsst/troxel/y1a1/central_member_shapes.fits')[-1] # Central/shape catalog"
   ]
  },
  {
   "cell_type": "code",
   "execution_count": 56,
   "metadata": {},
   "outputs": [],
   "source": [
    "cosmo = FlatLambdaCDM(H0=70, Om0=0.3) # Use standard cosmological model"
   ]
  },
  {
   "cell_type": "code",
   "execution_count": 57,
   "metadata": {},
   "outputs": [],
   "source": [
    "# Slice to the members of specified cluster\n",
    "def get_clus(catalog, clus_id):\n",
    "    clus_mems = catalog.read()[catalog.read()['MEM_MATCH_ID']==clus_id]\n",
    "    \n",
    "    return clus_mems"
   ]
  },
  {
   "cell_type": "code",
   "execution_count": 58,
   "metadata": {},
   "outputs": [],
   "source": [
    "# Calculate comoving distance\n",
    "def co_distance(z):\n",
    "    co_distance = cosmo.comoving_distance(z)\n",
    "    \n",
    "    return co_distance"
   ]
  },
  {
   "cell_type": "code",
   "execution_count": 59,
   "metadata": {},
   "outputs": [],
   "source": [
    "# Calculate angular diameter distance\n",
    "def ad_distance(z):\n",
    "    ad_distance = co_distance(z) / (z + np.ones(len(z)))\n",
    "    \n",
    "    return ad_distance"
   ]
  },
  {
   "cell_type": "code",
   "execution_count": 60,
   "metadata": {},
   "outputs": [],
   "source": [
    "#ad_distance(get_clus(mem, 201)['Z'])"
   ]
  },
  {
   "cell_type": "code",
   "execution_count": 61,
   "metadata": {},
   "outputs": [],
   "source": [
    "# Calculate position angle\n",
    "def pos_ang(e1, e2):\n",
    "    alpha = np.degrees(np.arctan(e2 / e1) / 2) * u.deg\n",
    "    \n",
    "    return alpha"
   ]
  },
  {
   "cell_type": "code",
   "execution_count": 62,
   "metadata": {},
   "outputs": [],
   "source": [
    "#pos_ang(get_clus(cent, 201)['e1'], get_clus(cent, 201)['e2'])"
   ]
  },
  {
   "cell_type": "code",
   "execution_count": 63,
   "metadata": {},
   "outputs": [],
   "source": [
    "# Calculate angular separation\n",
    "def separation(clus_id):\n",
    "    cent_pos = SkyCoord(np.ones(len(get_clus(mem, clus_id)['RA']))*get_clus(cent, clus_id)['RA']*u.deg, np.ones(len(get_clus(mem, clus_id)['DEC']))*get_clus(cent, clus_id)['DEC']*u.deg, frame='icrs')\n",
    "    sat_pos = SkyCoord(get_clus(mem, clus_id)['RA']*u.deg, get_clus(mem, clus_id)['DEC']*u.deg, frame='icrs')\n",
    "    sep = cent_pos.separation(sat_pos)\n",
    "    \n",
    "    return sep"
   ]
  },
  {
   "cell_type": "code",
   "execution_count": 64,
   "metadata": {},
   "outputs": [],
   "source": [
    "#separation(201)"
   ]
  },
  {
   "cell_type": "code",
   "execution_count": 65,
   "metadata": {},
   "outputs": [],
   "source": [
    "# Calculate 3D distance\n",
    "def distance_3d(clus_id):\n",
    "    cent_distance = ad_distance(get_clus(cent, clus_id)['Z'])\n",
    "    sat_distance = ad_distance(get_clus(mem, clus_id)['Z'])\n",
    "    cent_pos = SkyCoord(np.ones(len(get_clus(mem, clus_id)['RA']))*get_clus(cent, clus_id)['RA']*u.deg, np.ones(len(get_clus(mem, clus_id)['DEC']))*get_clus(cent, clus_id)['DEC']*u.deg, distance=np.ones(len(get_clus(mem, clus_id)['Z']))*cent_distance, frame='icrs')\n",
    "    sat_pos = SkyCoord(get_clus(mem, clus_id)['RA']*u.deg, get_clus(mem, clus_id)['DEC']*u.deg, distance=sat_distance, frame='icrs')\n",
    "    sep_3d = cent_pos.separation_3d(sat_pos)\n",
    "    \n",
    "    return sep_3d"
   ]
  },
  {
   "cell_type": "code",
   "execution_count": 66,
   "metadata": {},
   "outputs": [],
   "source": [
    "#distance_3d(201)"
   ]
  },
  {
   "cell_type": "code",
   "execution_count": 67,
   "metadata": {},
   "outputs": [],
   "source": [
    "# Approximate 3D distance\n",
    "def approx_distance(clus_id):\n",
    "    ang_sep = separation(clus_id)\n",
    "    cent_distance = ad_distance(get_clus(cent, clus_id)['Z'])\n",
    "    approx_distance = np.radians(ang_sep) * cent_distance\n",
    "    \n",
    "    return approx_distance"
   ]
  },
  {
   "cell_type": "code",
   "execution_count": 68,
   "metadata": {},
   "outputs": [],
   "source": [
    "#approx_distance(201)"
   ]
  },
  {
   "cell_type": "code",
   "execution_count": 69,
   "metadata": {},
   "outputs": [],
   "source": [
    "# Calculate satellite angular position with respect to central\n",
    "def sat_ang_pos(clus_id):\n",
    "    cent_pos = SkyCoord(np.ones(len(get_clus(mem, clus_id)['RA']))*get_clus(cent, clus_id)['RA']*u.deg, np.ones(len(get_clus(mem, clus_id)['DEC']))*get_clus(cent, clus_id)['DEC']*u.deg, frame='icrs')\n",
    "    sat_pos = SkyCoord(get_clus(mem, clus_id)['RA']*u.deg, get_clus(mem, clus_id)['DEC']*u.deg, frame='icrs')\n",
    "    sat_ang = cent_pos.position_angle(sat_pos).to(u.deg)\n",
    "    \n",
    "    return sat_ang"
   ]
  },
  {
   "cell_type": "code",
   "execution_count": 70,
   "metadata": {},
   "outputs": [],
   "source": [
    "#sat_ang_pos(201)"
   ]
  },
  {
   "cell_type": "code",
   "execution_count": 71,
   "metadata": {},
   "outputs": [],
   "source": [
    "def cent_gal_ang(clus_id):\n",
    "    cent_pos_ang = np.ones(len(sat_ang_pos(clus_id))) * pos_ang(get_clus(cent, clus_id)['e1'], get_clus(cent, clus_id)['e2'])\n",
    "    sat_pos_ang = sat_ang_pos(clus_id)\n",
    "    ang_diff = sat_pos_ang - cent_pos_ang\n",
    "    \n",
    "    return ang_diff"
   ]
  },
  {
   "cell_type": "code",
   "execution_count": 72,
   "metadata": {},
   "outputs": [],
   "source": [
    "#cent_gal_ang(201)"
   ]
  },
  {
   "cell_type": "code",
   "execution_count": null,
   "metadata": {},
   "outputs": [],
   "source": []
  }
 ],
 "metadata": {
  "kernelspec": {
   "display_name": "Python 3",
   "language": "python",
   "name": "python3"
  },
  "language_info": {
   "codemirror_mode": {
    "name": "ipython",
    "version": 3
   },
   "file_extension": ".py",
   "mimetype": "text/x-python",
   "name": "python",
   "nbconvert_exporter": "python",
   "pygments_lexer": "ipython3",
   "version": "3.6.6"
  }
 },
 "nbformat": 4,
 "nbformat_minor": 2
}
