{
 "cells": [
  {
   "cell_type": "code",
   "execution_count": 95,
   "metadata": {},
   "outputs": [],
   "source": [
    "import fitsio as fio\n",
    "from astropy.cosmology import FlatLambdaCDM\n",
    "from astropy import units as u\n",
    "from astropy.coordinates import SkyCoord\n",
    "import numpy as np\n",
    "import matplotlib.pyplot as plt\n",
    "import scipy.stats as stats\n",
    "import time as time"
   ]
  },
  {
   "cell_type": "code",
   "execution_count": 96,
   "metadata": {},
   "outputs": [],
   "source": [
    "mem = fio.FITS('/lsst/troxel/y1a1/lgt5_member_mcal_combined.fits')[-1] # Member/shape catalog\n",
    "clus = fio.FITS('/lsst/troxel/y1a1/y1a1_gold_1.0.3-d10-mof-001d_run_redmapper_v6.4.17_lgt5_desformat_catalog.fit')[-1] # Cluster catalog\n",
    "cent = fio.FITS('/lsst/troxel/y1a1/central_member_shapes.fits')[-1] # Central/shape catalog\n",
    "sat = fio.FITS('/lsst/troxel/y1a1/sat_member_shapes.fits')[-1] # Satellite/shape catalog"
   ]
  },
  {
   "cell_type": "code",
   "execution_count": 97,
   "metadata": {},
   "outputs": [],
   "source": [
    "cosmo = FlatLambdaCDM(H0=70, Om0=0.3) # Use standard cosmological model"
   ]
  },
  {
   "cell_type": "code",
   "execution_count": 98,
   "metadata": {},
   "outputs": [],
   "source": [
    "# Slice to the galaxies of specified catalog and cluster\n",
    "def get_clus(catalog, clus_id):\n",
    "    clus_mems = catalog.read()[np.in1d(catalog['MEM_MATCH_ID'].read(), clus_id, assume_unique=False)]\n",
    "    \n",
    "    return clus_mems"
   ]
  },
  {
   "cell_type": "code",
   "execution_count": 99,
   "metadata": {},
   "outputs": [],
   "source": [
    "# Slice to the central galaxy of specified cluster\n",
    "def get_cent(clus_id):\n",
    "    clus_cent = get_clus(cent, clus_id)\n",
    "    \n",
    "    return clus_cent"
   ]
  },
  {
   "cell_type": "code",
   "execution_count": 100,
   "metadata": {},
   "outputs": [],
   "source": [
    "# Slice to satellite galaxies of specified cluster\n",
    "def get_sat(clus_id):\n",
    "    clus_sat = get_clus(sat, clus_id)\n",
    "    \n",
    "    return clus_sat"
   ]
  },
  {
   "cell_type": "code",
   "execution_count": 101,
   "metadata": {},
   "outputs": [],
   "source": [
    "# Slice to specified column of satellite galaxies\n",
    "def get_sat_prop(clus_id, prop):\n",
    "    mask = sat['MEM_MATCH_ID'].read()==clus_id\n",
    "    sat_prop = sat[prop].read()[mask]\n",
    "    \n",
    "    return sat_prop"
   ]
  },
  {
   "cell_type": "code",
   "execution_count": 102,
   "metadata": {},
   "outputs": [],
   "source": [
    "# Calculate comoving distance\n",
    "def co_distance(z):\n",
    "    co_distance = cosmo.comoving_distance(z)\n",
    "    \n",
    "    return co_distance"
   ]
  },
  {
   "cell_type": "code",
   "execution_count": 103,
   "metadata": {},
   "outputs": [],
   "source": [
    "# Calculate angular diameter distance\n",
    "def ad_distance(z):\n",
    "    ad_distance = co_distance(z) / (z + np.ones(len(z)))\n",
    "    \n",
    "    return ad_distance"
   ]
  },
  {
   "cell_type": "code",
   "execution_count": 104,
   "metadata": {},
   "outputs": [],
   "source": [
    "# Calculate angular separation\n",
    "def separation(clus_id):\n",
    "    cent_pos = SkyCoord(np.ones(len(get_clus(mem, clus_id)['RA']))*get_clus(cent, clus_id)['RA']*u.deg, np.ones(len(get_clus(mem, clus_id)['DEC']))*get_clus(cent, clus_id)['DEC']*u.deg, frame='icrs')\n",
    "    sat_pos = SkyCoord(get_clus(mem, clus_id)['RA']*u.deg, get_clus(mem, clus_id)['DEC']*u.deg, frame='icrs')\n",
    "    sep = cent_pos.separation(sat_pos)\n",
    "    \n",
    "    return sep"
   ]
  },
  {
   "cell_type": "code",
   "execution_count": 105,
   "metadata": {},
   "outputs": [],
   "source": [
    "# Calculate 3D distance\n",
    "def distance_3d(clus_id):\n",
    "    cent_distance = ad_distance(get_clus(cent, clus_id)['Z'])\n",
    "    sat_distance = ad_distance(get_clus(mem, clus_id)['Z'])\n",
    "    cent_pos = SkyCoord(np.ones(len(get_clus(mem, clus_id)['RA']))*get_clus(cent, clus_id)['RA']*u.deg, np.ones(len(get_clus(mem, clus_id)['DEC']))*get_clus(cent, clus_id)['DEC']*u.deg, distance=np.ones(len(get_clus(mem, clus_id)['Z']))*cent_distance, frame='icrs')\n",
    "    sat_pos = SkyCoord(get_clus(mem, clus_id)['RA']*u.deg, get_clus(mem, clus_id)['DEC']*u.deg, distance=sat_distance, frame='icrs')\n",
    "    sep_3d = cent_pos.separation_3d(sat_pos)\n",
    "    \n",
    "    return sep_3d"
   ]
  },
  {
   "cell_type": "code",
   "execution_count": 106,
   "metadata": {},
   "outputs": [],
   "source": [
    "# Approximate 3D distance\n",
    "def approx_distance(clus_id):\n",
    "    ang_sep = separation(clus_id)\n",
    "    cent_distance = ad_distance(get_clus(cent, clus_id)['Z'])\n",
    "    approx_distance = np.radians(ang_sep) * cent_distance\n",
    "    \n",
    "    return approx_distance"
   ]
  },
  {
   "cell_type": "code",
   "execution_count": 107,
   "metadata": {},
   "outputs": [],
   "source": [
    "# Calculate position angle\n",
    "def pos_ang(e1, e2):\n",
    "    alpha = np.arctan2(e2, e1)/2\n",
    "    \n",
    "    return alpha"
   ]
  },
  {
   "cell_type": "code",
   "execution_count": 108,
   "metadata": {},
   "outputs": [],
   "source": [
    "# Create 2D array for specified property of all satellite galaxies\n",
    "def sat_prop(prop):\n",
    "    cent_id = cent['MEM_MATCH_ID'].read()\n",
    "    sat_prop_full = sat[prop].read()\n",
    "    sat_id, counts = np.unique(sat['MEM_MATCH_ID'].read(), return_counts=True)\n",
    "    new_array = np.zeros((231185,308))\n",
    "    k = 0\n",
    "    for i in range(231185):\n",
    "        new_array[i, 0:counts[i]] = sat_prop_full[k:k+counts[i]]\n",
    "        new_array[i, counts[i]:] = np.nan\n",
    "        k = k + counts[i]\n",
    "    \n",
    "    return new_array"
   ]
  },
  {
   "cell_type": "code",
   "execution_count": 109,
   "metadata": {},
   "outputs": [],
   "source": [
    "# Calculate satellite angular position for all satellite galaxies\n",
    "def sat_ang_pos():\n",
    "    sat_ra = sat_prop('RA')\n",
    "    sat_dec = sat_prop('DEC')\n",
    "    cent_ra = cent['RA'].read().reshape(231185,-1)\n",
    "    cent_dec = cent['DEC'].read().reshape(231185,-1)\n",
    "    x = sat_ra - cent_ra\n",
    "    y = sat_dec - cent_dec\n",
    "    sat_ang = np.arctan2(x, y)\n",
    "    \n",
    "    return sat_ang"
   ]
  },
  {
   "cell_type": "code",
   "execution_count": 110,
   "metadata": {},
   "outputs": [],
   "source": [
    "# Calculate central galaxy alignment angle for all viable clusters\n",
    "def cent_gal_ang():\n",
    "    sat_pos_ang = sat_ang_pos()\n",
    "    cent_pos_ang = pos_ang(cent['e1'].read(), cent['e2'].read()).reshape(231185,-1)\n",
    "    theta = sat_pos_ang - cent_pos_ang\n",
    "    theta = np.arcsin(np.absolute(np.sin(theta)))\n",
    "    theta = np.degrees(theta)\n",
    "    \n",
    "    return theta"
   ]
  },
  {
   "cell_type": "code",
   "execution_count": 111,
   "metadata": {},
   "outputs": [],
   "source": [
    "central_ang = cent_gal_ang()\n",
    "mask = np.isfinite(central_ang)\n",
    "central_ang = central_ang[mask]"
   ]
  },
  {
   "cell_type": "code",
   "execution_count": 112,
   "metadata": {},
   "outputs": [
    {
     "data": {
      "image/png": "[encoded data removed]",
      "text/plain": [
       "<Figure size 432x288 with 1 Axes>"
      ]
     },
     "metadata": {
      "needs_background": "light"
     },
     "output_type": "display_data"
    }
   ],
   "source": [
    "plt.hist(central_ang, bins=[0.,10.,20.,30.,40.,50.,60.,70.,80.,90.])\n",
    "plt.show()"
   ]
  },
  {
   "cell_type": "code",
   "execution_count": 15,
   "metadata": {},
   "outputs": [],
   "source": [
    "def quad_counts(clus_id, theta):\n",
    "    sat_pos_ang = sat_ang_pos(clus_id)\n",
    "    theta = theta * u.deg\n",
    "    q1_count = np.sum(np.logical_and(np.less_equal(theta, sat_pos_ang), np.less(sat_pos_ang, theta+90*u.deg)))\n",
    "    q2_count = np.sum(np.logical_and(np.less_equal(theta+90*u.deg, sat_pos_ang), np.less(sat_pos_ang, theta+180*u.deg)))\n",
    "    q3_count = np.sum(np.logical_and(np.less_equal(theta+180*u.deg, sat_pos_ang), np.less(sat_pos_ang, theta+270*u.deg)))\n",
    "    q4_count = np.sum(np.less_equal(theta+270*u.deg, sat_pos_ang)) + np.sum(np.less(sat_pos_ang, theta))\n",
    "    \n",
    "    return np.array([q1_count, q2_count, q3_count, q4_count])"
   ]
  },
  {
   "cell_type": "code",
   "execution_count": 16,
   "metadata": {},
   "outputs": [],
   "source": [
    "def q_counts_array(clus_id, n):\n",
    "    new_array = np.ones(n, dtype=[('angle',float)] + [('counts',float,(4,))] + [('chi_sq',float)])\n",
    "    for i in range(n):\n",
    "        new_array['angle'][i] *= 90 - i*90/n\n",
    "        q_counts = quad_counts(clus_id, i*90/n)\n",
    "        new_array['counts'][i] *= q_counts\n",
    "        new_array['chi_sq'][i] *= stats.chisquare(q_counts)[0]\n",
    "    chi2_sort = np.argsort(new_array['chi_sq'])\n",
    "    new_array = new_array[chi2_sort]\n",
    "    \n",
    "    return new_array"
   ]
  },
  {
   "cell_type": "code",
   "execution_count": 17,
   "metadata": {},
   "outputs": [],
   "source": [
    "def mom_2(p, x, y, a, b):\n",
    "    mom = np.sum(p*a*b/(x**2+y**2))/np.sum(p)\n",
    "    \n",
    "    return mom"
   ]
  },
  {
   "cell_type": "code",
   "execution_count": 18,
   "metadata": {},
   "outputs": [],
   "source": [
    "def clus_pa(clus_id):\n",
    "    sat_ra = get_sat(clus_id)['RA']\n",
    "    sat_dec = get_sat(clus_id)['DEC']\n",
    "    cent_ra = np.ones(len(sat_ra)) * get_cent(clus_id)['RA']\n",
    "    cent_dec = np.ones(len(sat_dec)) * get_cent(clus_id)['DEC']\n",
    "    p_i = get_sat(clus_id)['P'] * get_sat(clus_id)['PFREE']\n",
    "    x_i = sat_ra - cent_ra\n",
    "    y_i = sat_dec - cent_dec\n",
    "    m_xx = mom_2(p_i, x_i, y_i, x_i, x_i)\n",
    "    m_xy = mom_2(p_i, x_i, y_i, x_i, y_i)\n",
    "    m_yy = mom_2(p_i, x_i, y_i, y_i, y_i)\n",
    "    beta = np.degrees(np.arctan2(2*m_xy, (m_xx-m_yy))/2) * u.deg\n",
    "    \n",
    "    return beta"
   ]
  },
  {
   "cell_type": "code",
   "execution_count": 19,
   "metadata": {},
   "outputs": [],
   "source": [
    "def alignment(clus_id):\n",
    "    cent_pa = pos_ang(get_cent(clus_id)['e1'], get_cent(clus_id)['e2'])\n",
    "    clust_pa = clus_pa(clus_id)\n",
    "    theta = cent_pa-clust_pa\n",
    "    theta = np.arcsin(np.sin(np.radians))\n",
    "    \n",
    "    return diff"
   ]
  },
  {
   "cell_type": "code",
   "execution_count": 20,
   "metadata": {},
   "outputs": [],
   "source": [
    "def alignment_array():\n",
    "    new_array = np.ones(len(np.unique(mem['MEM_MATCH_ID'].read())))\n",
    "    a = 0\n",
    "    for i in np.unique(mem['MEM_MATCH_ID'].read()):\n",
    "        new_array[a] *= alignment(i)\n",
    "        a = a + 1\n",
    "\n",
    "    return new_array    "
   ]
  },
  {
   "cell_type": "code",
   "execution_count": 113,
   "metadata": {},
   "outputs": [
    {
     "data": {
      "text/plain": [
       "array([(     1, 0.429804  ,  43.564574, -58.95297 , 0., 1., 1., 1., 1., [20.175312, 18.321383, 17.693726, 17.325676], [0.01691545, 0.00813576, 0.00819973, 0.00841123], 17.325676, 0.00841123, 17.325676, 0.00841123, 0.4274477 , 0.01856718, 0.4290989 , 0.01734775,  0.84583086, 0., -1., 3089939451, 17.325676, 0.00841123,  7.92776686e-02, -1.14478744e-01,  8.45264601e-01,  7.79725944e-01,  2),\n",
       "       (     2, 0.30416065,  79.155704, -54.500456, 0., 1., 1., 1., 1., [19.667797, 17.954527, 17.444197, 17.169514], [0.00678707, 0.00215362, 0.00218005, 0.00289934], 17.169514, 0.00289934, 17.169514, 0.00289934, 0.3421081 , 0.01246136, 0.3417304 , 0.01250632, 16.09858   , 0., -1., 3047101906, 17.169514, 0.00289934, -9.99900000e+03, -9.99900000e+03, -9.99900000e+03, -9.99900000e+03, 74),\n",
       "       (     3, 0.41936922,  62.795694, -48.327672, 0., 1., 1., 1., 1., [19.57539 , 17.845314, 17.2277  , 16.868717], [0.00977995, 0.00459519, 0.00468805, 0.00500004], 16.868717, 0.00500004, 16.868717, 0.00500004, 0.38609636, 0.01808997, 0.38738778, 0.01750818,  0.98642874, 0., -1., 3069562192, 16.868717, 0.00500004,  8.91965220e-02, -6.71713439e-02,  7.68629786e-01,  7.13191104e-01,  0),\n",
       "       ...,\n",
       "       (375592, 0.82119167,  88.016405, -53.654521, 0., 1., 1., 1., 1., [24.584047, 22.948154, 21.458223, 20.842281], [0.3122672 , 0.0778318 , 0.03624208, 0.03641639], 20.842281, 0.03641639, 20.842281, 0.03641639, 0.8359893 , 0.01660066, 0.8302501 , 0.01933756,  6.9378557 , 0., -1., 3036673623, 20.842281, 0.03641639,  6.13974319e-02, -3.25951283e-02, -3.06375114e-01, -2.33861048e-01,  0),\n",
       "       (375600, 0.8326346 ,  74.486858, -54.131002, 0., 1., 1., 1., 1., [22.932455, 21.944515, 20.94552 , 20.512604], [0.06730841, 0.04373534, 0.03524207, 0.03910509], 20.512604, 0.03910509, 20.512604, 0.03910509, 0.82650477, 0.01958991, 0.82051784, 0.0223518 , 23.152172  , 0., -1., 3052698701, 20.512604, 0.03910509,  1.13647581e-01, -6.83679467e-02,  1.03134606e+00,  7.37526752e-01,  0),\n",
       "       (375601, 0.843197  , 336.944484, -52.843541, 0., 1., 1., 1., 1., [24.784603, 22.784355, 21.459763, 20.837828], [0.2850718 , 0.06196157, 0.04395534, 0.04426007], 20.837828, 0.04426007, 20.837828, 0.04426007, 0.84569085, 0.01983145, 0.84002846, 0.02360682,  1.7838689 , 0., -1., 3143313961, 20.837828, 0.04426007,  3.48524992e-02, -7.13407117e-03,  4.70683384e-01,  4.74957649e-01,  0)],\n",
       "      dtype=[('MEM_MATCH_ID', '>i4'), ('Z', '>f4'), ('RA', '>f8'), ('DEC', '>f8'), ('R', '>f4'), ('P', '>f4'), ('PFREE', '>f4'), ('THETA_I', '>f4'), ('THETA_R', '>f4'), ('MODEL_MAG', '>f4', (4,)), ('MODEL_MAGERR', '>f4', (4,)), ('REFMAG_FIT', '>f4'), ('REFMAG_FIT_E', '>f4'), ('REFMAG', '>f4'), ('REFMAG_ERR', '>f4'), ('ZRED', '>f4'), ('ZRED_E', '>f4'), ('ZRED2', '>f4'), ('ZRED2_E', '>f4'), ('CHISQ', '>f4'), ('EBV', '>f4'), ('ZSPEC', '>f4'), ('ID', '>i8'), ('ZMAG', '>f4'), ('ZMAG_ERR', '>f4'), ('e1', '>f8'), ('e2', '>f8'), ('R11', '>f8'), ('R22', '>f8'), ('flags_select', '>i8')])"
      ]
     },
     "execution_count": 113,
     "metadata": {},
     "output_type": "execute_result"
    }
   ],
   "source": [
    "cent.read()"
   ]
  },
  {
   "cell_type": "code",
   "execution_count": 117,
   "metadata": {},
   "outputs": [
    {
     "data": {
      "text/plain": [
       "array([(201, 0.3261582, 323.894721, -1.033345, 0.8015756 , 0.4190328 , 0.32786822, 1.        , 0.07686019, [20.456787, 18.959728, 18.413761, 18.059801], [0.00932757, 0.0053854 , 0.00523431, 0.0057543 ], 18.059801, 0.0057543 , 18.059801, 0.0057543 , 0.31731722, 0.01514248, 0.3161917 , 0.01544578,  5.2251463 , 0., -1.        , 3010451710, 18.059801, 0.0057543 ,  9.88912151e-02, -1.22060556e-01,  7.96847709e-01,  6.99823264e-01,   0),\n",
       "       (201, 0.3261582, 323.88217 , -0.907487, 0.7105651 , 0.63340217, 1.        , 1.        , 0.6530979 , [21.55331 , 20.072184, 19.591394, 19.304459], [0.02091612, 0.01276265, 0.01261503, 0.01592026], 19.304459, 0.01592026, 19.304459, 0.01592026, 0.30081025, 0.01753082, 0.29949892, 0.01802149,  2.709798  , 0., -1.        , 3010477246, 19.304459, 0.01592026, -3.95580441e-02,  3.20005021e-02,  7.06239712e-01,  6.65631090e-01,   0),\n",
       "       (201, 0.3261582, 323.890768, -0.916335, 0.6003101 , 0.70653   , 1.        , 1.        , 0.99532247, [22.418365, 20.924637, 20.393967, 20.133625], [0.03723433, 0.01734215, 0.01680295, 0.0217471 ], 20.133625, 0.0217471 , 20.133625, 0.0217471 , 0.33413863, 0.0193508 , 0.33348063, 0.01953085,  2.3644822 , 0., -1.        , 3010473645, 20.133625, 0.0217471 , -7.58925298e-02,  9.92138867e-02,  6.90605909e-01,  5.24533045e-01,   0),\n",
       "       (201, 0.3261582, 323.917577, -0.950502, 0.39070445, 0.01356556, 1.        , 1.        , 1.        , [21.526697, 19.885681, 19.273304, 18.908789], [0.01589011, 0.00566283, 0.00512594, 0.00602504], 18.908789, 0.00602504, 18.908789, 0.00602504, 0.42565814, 0.02115185, 0.4273379 , 0.01979   , 17.358446  , 0., -1.        , 3018850245, 18.908789, 0.00602504, -4.48831485e-01,  6.18581359e-02,  5.93785094e-01,  1.08582186e+00,   0),\n",
       "       (201, 0.3261582, 323.90596 , -1.005465, 0.50728273, 0.12473179, 0.88405037, 1.        , 0.9999959 , [21.714527, 20.445309, 19.958841, 19.63339 ], [0.02380718, 0.01297942, 0.01243822, 0.01532127], 19.63339 , 0.01532127, 19.63339 , 0.01532127, 0.26018113, 0.01911018, 0.25985003, 0.01974895, 10.568737  , 0., -1.        , 3018844748, 19.63339 , 0.01532127, -1.92336042e-01,  3.54939882e-01,  1.05877636e+00,  5.40325326e-01,   0),\n",
       "       (201, 0.3261582, 323.936759, -1.003482, 0.72098273, 0.7305444 , 1.        , 1.        , 0.5735204 , [22.307674, 20.785944, 20.267206, 19.982134], [0.02752267, 0.01268516, 0.01220382, 0.01437902], 19.982134, 0.01437902, 19.982134, 0.01437902, 0.33608946, 0.01846139, 0.33549714, 0.01860812,  0.9660618 , 0., -1.        , 3018844760, 19.982134, 0.01437902,  2.27590930e-01,  7.50893398e-03,  7.41919589e-01,  7.37610789e-01,   2),\n",
       "       (201, 0.3261582, 323.906782, -0.902216, 0.79731435, 0.626224  , 1.        , 1.        , 0.08991361, [21.86053 , 20.334848, 19.819271, 19.516787], [0.0234607 , 0.01232435, 0.01174028, 0.01367833], 19.516787, 0.01367833, 19.516787, 0.01367833, 0.3307517 , 0.0187274 , 0.32998374, 0.01894526,  0.09868609, 0., -1.        , 3018853326, 19.516787, 0.01367833, -1.85385258e-01, -1.12335186e-01,  7.26109812e-01,  7.82240600e-01,   0),\n",
       "       (201, 0.3261582, 323.916686, -0.912603, 0.7240932 , 0.70341736, 1.        , 1.        , 0.54899997, [22.00772 , 20.562214, 20.067955, 19.762033], [0.02771423, 0.01399567, 0.01370557, 0.01761101], 19.762033, 0.01761101, 19.762033, 0.01761101, 0.30688968, 0.01852278, 0.30560648, 0.01899343,  1.1487527 , 0., -1.        , 3018852645, 19.762033, 0.01761101, -6.93282009e-02,  3.57733612e-02,  4.12824311e-01,  7.45486998e-01,   0),\n",
       "       (201, 0.3261582, 323.913454, -0.942741, 0.4070197 , 0.81771517, 1.        , 1.        , 1.        , [22.52337 , 21.096945, 20.579319, 20.232378], [0.03787548, 0.01781911, 0.01653617, 0.01938576], 20.232378, 0.01938576, 20.232378, 0.01938576, 0.3254018 , 0.02157662, 0.32447624, 0.02190309,  2.3402786 , 0., -1.        , 3018850639, 20.232378, 0.01938576,  2.10710970e-01,  2.51703069e-01,  5.54610771e-01,  7.51649697e-01,   2),\n",
       "       (201, 0.3261582, 323.912681, -0.990611, 0.4030132 , 0.5730206 , 0.5789511 , 0.0399842 , 1.        , [22.585896, 21.802073, 21.265255, 20.819416], [0.24643928, 0.23075554, 0.2232684 , 0.23818362], 20.819416, 0.23818362, 20.819416, 0.23818362, 0.27706078, 0.04122323, 0.27611107, 0.04260978,  4.922462  , 0., -1.        , 3018846638, 20.819416, 0.23818362,  1.48352978e-01, -4.95381827e-02,  9.85246249e-01, -3.05134314e-01,   0),\n",
       "       (201, 0.3261582, 323.918221, -0.97271 , 0.355984  , 0.84038115, 1.        , 1.        , 1.        , [21.647884, 20.23376 , 19.702288, 19.369715], [0.01839767, 0.00991486, 0.00938055, 0.0100288 ], 19.369715, 0.0100288 , 19.369715, 0.0100288 , 0.3188594 , 0.01757798, 0.31777027, 0.01791397,  2.7520585 , 0., -1.        , 3018848855, 19.369715, 0.0100288 , -1.25344699e-01, -1.86971822e-01,  7.51473217e-01,  7.75439729e-01,   0),\n",
       "       (201, 0.3261582, 323.89143 , -0.91571 , 0.6080902 , 0.2609633 , 1.        , 1.        , 0.9927211 , [22.026155, 20.667929, 20.20884 , 19.943628], [0.03291264, 0.02094284, 0.02108263, 0.02535248], 19.943628, 0.02535248, 19.943628, 0.02535248, 0.26602373, 0.01843048, 0.26545095, 0.01905535,  7.5196366 , 0., -1.        , 3010473781, 19.943628, 0.02535248, -2.51734492e-02, -9.36978346e-03,  7.84230749e-01,  3.65538667e-01,   0),\n",
       "       (201, 0.3261582, 323.91631 , -1.019537, 0.71233934, 0.02170363, 0.96813315, 1.        , 0.6399078 , [21.906054, 20.573378, 20.131605, 19.83695 ], [0.01887333, 0.00899351, 0.00880346, 0.01111619], 19.83695 , 0.01111619, 19.83695 , 0.01111619, 0.253278  , 0.01615652, 0.253255  , 0.0166798 , 13.340034  , 0., -1.        , 3018841684, 19.83695 , 0.01111619,  2.52287022e-01, -2.80290353e-02,  7.41780919e-01,  8.32102205e-01,   0),\n",
       "       (201, 0.3261582, 323.944869, -0.970563, 0.66846794, 0.59135306, 1.        , 1.        , 0.89170396, [21.098932, 19.507656, 18.937346, 18.601685], [0.01584489, 0.00767999, 0.00768487, 0.0078853 ], 18.601685, 0.0078853 , 18.601685, 0.0078853 , 0.36473382, 0.01987401, 0.36524642, 0.01959071,  3.8889985 , 0., -1.        , 3018848945, 18.601685, 0.0078853 ,  3.03539624e-01, -8.49352954e-02,  7.16877563e-01,  7.08749072e-01,   0),\n",
       "       (201, 0.3261582, 323.901975, -0.997854, 0.40493608, 0.01397256, 0.99110126, 1.        , 1.        , [21.437185, 20.123165, 19.674726, 19.36109 ], [0.01468839, 0.00815473, 0.00804271, 0.00957408], 19.36109 , 0.00957408, 19.36109 , 0.00957408, 0.245766  , 0.01590282, 0.2461008 , 0.01639046, 16.820253  , 0., -1.        , 3010457462, 19.36109 , 0.00957408,  4.65861832e-04,  1.00536054e-02,  7.43508346e-01,  7.78587776e-01,   0),\n",
       "       (201, 0.3261582, 323.84914 , -0.998217, 0.6094721 , 0.76467   , 0.0905444 , 1.        , 0.9921444 , [21.939575, 20.406128, 19.907438, 19.603865], [0.0210831 , 0.01009664, 0.00984098, 0.01146475], 19.603865, 0.01146475, 19.603865, 0.01146475, 0.3233287 , 0.01868028, 0.3223462 , 0.01898742,  0.5462663 , 0., -1.        , 3010457516, 19.603865, 0.01146475, -5.79284343e-02, -5.89430434e-02,  5.01505124e-01,  4.59208974e-01,   2),\n",
       "       (201, 0.3261582, 323.845554, -0.994751, 0.62011683, 0.2228321 , 0.5326544 , 1.        , 0.98619074, [22.337395, 21.018377, 20.562859, 20.273682], [0.03469945, 0.01876222, 0.01845574, 0.02258801], 20.273682, 0.02258801, 20.273682, 0.02258801, 0.26136073, 0.01881954, 0.26097643, 0.01945162,  7.6353984 , 0., -1.        , 3010457686, 20.273682, 0.02258801,  1.42837518e-01,  9.17744607e-03,  9.05956550e-01,  7.20863342e-01,   2),\n",
       "       (201, 0.3261582, 323.867247, -0.994046, 0.4199432 , 0.05341952, 0.93946   , 1.        , 1.        , [21.953127, 20.498003, 20.021624, 19.790264], [0.02014524, 0.00869942, 0.00837109, 0.01095867], 19.790264, 0.01095867, 19.790264, 0.01095867, 0.30442035, 0.01770363, 0.30312526, 0.0181723 , 13.242148  , 0., -1.        , 3010457712, 19.790264, 0.01095867,  2.94413945e-01, -1.78312037e-01,  8.15193971e-01,  8.47805069e-01,   2),\n",
       "       (201, 0.3261582, 323.864046, -0.993946, 0.4438508 , 0.09249423, 0.8825198 , 1.        , 1.        , [22.286594, 20.939653, 20.491684, 20.119068], [0.0340724 , 0.01772947, 0.01737235, 0.02054797], 20.119068, 0.02054797, 20.119068, 0.02054797, 0.2776875 , 0.01883478, 0.27672115, 0.01946693, 11.43915   , 0., -1.        , 3010457742, 20.119068, 0.02054797,  2.66333356e-02, -9.96060237e-02,  8.92830227e-01,  8.62092621e-01,  66),\n",
       "       (201, 0.3261582, 323.846726, -0.994081, 0.60400695, 0.7508397 , 0.10067046, 1.        , 0.9942128 , [21.838404, 20.28713 , 19.757105, 19.42293 ], [0.01957288, 0.00852461, 0.00810153, 0.00951735], 19.42293 , 0.00951735, 19.42293 , 0.00951735, 0.34009603, 0.02161318, 0.33964628, 0.02172207,  1.5116907 , 0., -1.        , 3010457765, 19.42293 , 0.00951735,  5.40884515e-02,  4.44266293e-02,  7.64609040e-01,  6.86939958e-01,   2),\n",
       "       (201, 0.3261582, 323.8503  , -0.997367, 0.5922961 , 0.7454219 , 0.10716641, 1.        , 0.9971018 , [19.754004, 18.110653, 17.557018, 17.238653], [0.00617591, 0.00342658, 0.00333449, 0.00366241], 17.238653, 0.00366241, 17.238653, 0.00366241, 0.34402764, 0.01446921, 0.34372255, 0.01450022,  1.6114491 , 0., -1.        , 3010458053, 17.238653, 0.00366241,  2.00072886e-02, -4.44722166e-02,  7.15047730e-01,  7.26593965e-01,   2),\n",
       "       (201, 0.3261582, 323.903788, -0.989984, 0.3309204 , 0.03338229, 0.98535323, 1.        , 1.        , [22.024054, 20.694206, 20.264107, 19.945692], [0.02179038, 0.01211679, 0.01208882, 0.01405147], 19.945692, 0.01405147, 19.945692, 0.01405147, 0.25112686, 0.0167356 , 0.25120348, 0.01727074, 15.0686245 , 0., -1.        , 3010458163, 19.945692, 0.01405147, -1.00071261e-01,  5.11534849e-02,  6.17414424e-01,  6.48383134e-01,   0),\n",
       "       (201, 0.3261582, 323.870072, -0.98872 , 0.34932944, 0.8787231 , 0.15224767, 1.        , 1.        , [21.347864, 19.740805, 19.202452, 18.874939], [0.01285385, 0.00546866, 0.00520729, 0.00605403], 18.874939, 0.00605403, 18.874939, 0.00605403, 0.3481562 , 0.02075124, 0.348009  , 0.02073113,  1.5082816 , 0., -1.        , 3010459280, 18.874939, 0.00605403,  2.03578594e-01,  2.83896573e-01,  8.33825469e-01,  7.19810614e-01,   2),\n",
       "       (201, 0.3261582, 323.862966, -0.997938, 0.4883195 , 0.73617136, 0.1736291 , 1.        , 0.99999934, [22.188993, 20.61824 , 20.06195 , 19.739048], [0.02343093, 0.01009508, 0.00835171, 0.01006376], 19.739048, 0.01006376, 19.739048, 0.01006376, 0.36746836, 0.02093553, 0.3680907 , 0.02059037,  3.1419451 , 0., -1.        , 3010457398, 19.739048, 0.01006376,  2.70923823e-01,  6.45673111e-02,  7.60700641e-01,  7.57020108e-01,   2),\n",
       "       (201, 0.3261582, 323.884667, -0.987933, 0.2612888 , 0.35123545, 0.823586  , 1.        , 1.        , [22.315132, 20.913021, 20.46615 , 20.207365], [0.025844  , 0.01131693, 0.01103239, 0.01428791], 20.207365, 0.01428791, 20.207365, 0.01428791, 0.2735299 , 0.01701837, 0.27269143, 0.01759454,  9.401171  , 0., -1.        , 3010459291, 20.207365, 0.01428791,  2.07126369e-01,  4.35810773e-02,  6.71589264e-01,  8.60825118e-01,   2),\n",
       "       (201, 0.3261582, 323.890214, -0.988402, 0.26184872, 0.68663776, 0.55414057, 1.        , 1.        , [20.728697, 19.376404, 18.873205, 18.562786], [0.00995248, 0.00537387, 0.00512936, 0.00624326], 18.562786, 0.00624326, 18.562786, 0.00624326, 0.282569  , 0.01683954, 0.2814763 , 0.01739424,  6.91864   , 0., -1.        , 3010459529, 18.562786, 0.00624326, -4.61302695e-02, -1.47471829e-01,  8.45367985e-01,  8.12724938e-01,   2),\n",
       "       (201, 0.3261582, 323.896514, -0.981021, 0.19469082, 0.5605883 , 0.7879179 , 0.11776769, 1.        , [22.51217 , 21.164248, 20.722242, 20.426733], [0.03136746, 0.01459167, 0.01606555, 0.02052351], 20.426733, 0.02052351, 20.426733, 0.02052351, 0.2652362 , 0.01796561, 0.26469675, 0.01857358,  8.118182  , 0., -1.        , 3010459891, 20.426733, 0.02052351, -2.18573635e-01,  3.74123358e-01,  8.65016801e-01,  7.37766475e-01,   2),\n",
       "       (201, 0.3261582, 323.904295, -0.981481, 0.254955  , 0.19747445, 0.9372517 , 1.        , 1.        , [21.178541, 19.80047 , 19.338161, 19.031021], [0.01000983, 0.00529049, 0.00521748, 0.00635776], 19.031021, 0.00635776, 19.031021, 0.00635776, 0.26361793, 0.01533485, 0.26314354, 0.01585216, 12.107349  , 0., -1.        , 3010459932, 19.031021, 0.00635776,  9.99306327e-02,  5.50308597e-02,  7.48394417e-01,  7.05436837e-01,   2),\n",
       "       (201, 0.3261582, 323.896528, -0.979368, 0.17741811, 0.7390265 , 0.64780277, 1.        , 1.        , [21.69802 , 20.236633, 19.672857, 19.31075 ], [0.01867408, 0.00907077, 0.00927262, 0.01024542], 19.31075 , 0.01024542, 19.31075 , 0.01024542, 0.3458146 , 0.02170295, 0.34557775, 0.02172006,  7.2855372 , 0., -1.        , 3010460148, 19.31075 , 0.01024542, -1.71757746e-01,  3.07345289e-02,  6.66971190e-01,  5.79727340e-01,   2),\n",
       "       (201, 0.3261582, 323.826834, -0.975252, 0.75131744, 0.6797855 , 0.11436284, 1.        , 0.3367501 , [20.942043, 19.437328, 18.916115, 18.613758], [0.01153992, 0.00726145, 0.00705275, 0.00748109], 18.613758, 0.00748109, 18.613758, 0.00748109, 0.32342854, 0.01613855, 0.32244885, 0.01640287,  0.57146394, 0., -1.        , 3010461578, 18.613758, 0.00748109,  1.63361350e-02,  9.34574399e-02,  6.87169725e-01,  7.13897424e-01,   2),\n",
       "       (201, 0.3261582, 323.824425, -0.972603, 0.7762408 , 0.11806879, 0.6748462 , 1.        , 0.17883426, [21.924345, 20.543694, 20.075287, 19.820255], [0.02395755, 0.01257175, 0.01217832, 0.01369304], 19.820255, 0.01369304, 19.820255, 0.01369304, 0.27396446, 0.01749215, 0.27311233, 0.01808395,  8.888204  , 0., -1.        , 3010461621, 19.820255, 0.01369304,  9.54074935e-02,  1.20954879e-02,  7.75829520e-01,  6.97124767e-01,   0),\n",
       "       (201, 0.3261582, 323.833537, -0.972947, 0.6683488 , 0.7219014 , 0.12540138, 1.        , 0.89214635, [21.310017, 19.762833, 19.21615 , 18.890566], [0.01287211, 0.00618289, 0.00583883, 0.00623954], 18.890566, 0.00623954, 18.890566, 0.00623954, 0.34455726, 0.01836326, 0.34427246, 0.01839508,  1.0895301 , 0., -1.        , 3010461677, 18.890566, 0.00623954, -3.10875138e-03,  1.34023824e-01,  7.31063657e-01,  6.88762459e-01,   2),\n",
       "       (201, 0.3261582, 323.875364, -0.971912, 0.17619129, 0.96676564, 0.13118768, 1.        , 1.        , [22.482502, 21.011986, 20.501326, 20.20701 ], [0.03573835, 0.01375504, 0.01289319, 0.01424675], 20.20701 , 0.01424675, 20.20701 , 0.01424675, 0.32525212, 0.01937181, 0.3243228 , 0.01966669,  0.29853433, 0., -1.        , 3010461683, 20.20701 , 0.01424675,  3.20058616e-01, -6.19793829e-03,  7.33562459e-01,  9.00725906e-01,  18),\n",
       "       (201, 0.3261582, 323.891335, -0.977371, 0.13239644, 0.26979166, 0.94956076, 1.        , 1.        , [20.495577, 18.929628, 18.327435, 17.94945 ], [0.00992307, 0.00549272, 0.00525844, 0.00569613], 17.94945 , 0.00569613, 17.94945 , 0.00569613, 0.37288183, 0.02239087, 0.37371394, 0.02192078, 13.490386  , 0.,  0.3201138 , 3010461763, 17.94945 , 0.00569613, -7.96722389e-02,  2.81909698e-02,  6.90332456e-01,  7.46913649e-01,   2),\n",
       "       (201, 0.3261582, 323.835944, -0.987759, 0.68399274, 0.7431446 , 0.08542991, 1.        , 0.8225546 , [21.966066, 20.466831, 19.954288, 19.668358], [0.02500132, 0.01155391, 0.01101063, 0.01347536], 19.668358, 0.01347536, 19.668358, 0.01347536, 0.32651448, 0.01788734, 0.32561684, 0.01814592,  0.9323022 , 0., -1.        , 3010459452, 19.668358, 0.01347536, -1.61722648e-01,  1.02362617e-01,  6.61805967e-01,  8.50969862e-01,   2),\n",
       "       (201, 0.3261582, 323.895792, -1.004528, 0.46128505, 0.7045735 , 0.30150956, 1.        , 0.99999994, [22.093094, 20.466213, 19.913256, 19.595264], [0.02305427, 0.00971861, 0.00923898, 0.01079026], 19.595264, 0.01079026, 19.595264, 0.01079026, 0.37381187, 0.02088361, 0.37467983, 0.02042899,  3.932512  , 0., -1.        , 3010455869, 19.595264, 0.01079026,  1.45812670e-01, -1.54459771e-01,  5.98814225e-01,  6.69122980e-01,   0),\n",
       "       (201, 0.3261582, 323.901733, -0.953838, 0.21413231, 0.47346863, 1.        , 1.        , 1.        , [22.210888, 20.895048, 20.396023, 20.032543], [0.03578122, 0.01468962, 0.01405821, 0.01755987], 20.032543, 0.01755987, 20.032543, 0.01755987, 0.29412797, 0.01949   , 0.29285023, 0.0200798 ,  8.98105   , 0., -1.        , 3010465422, 20.032543, 0.01755987,  2.18508759e-01, -1.67489515e-01,  8.12450003e-01,  6.48692294e-01,   2),\n",
       "       (201, 0.3261582, 323.900454, -1.008299, 0.51750124, 0.7804158 , 0.20555323, 1.        , 0.99998957, [20.897335, 19.386673, 18.874544, 18.586182], [0.00979605, 0.00521751, 0.00509406, 0.00581175], 18.586182, 0.00581175, 18.586182, 0.00581175, 0.32455018, 0.01504158, 0.3236018 , 0.01527716,  2.1391063 , 0., -1.        , 3010455661, 18.586182, 0.00581175,  8.36850179e-02,  3.67543600e-02,  7.10320104e-01,  6.27632678e-01,   0),\n",
       "       (201, 0.3261582, 323.892148, -1.012314, 0.5485629 , 0.04872737, 0.9352587 , 1.        , 0.99986035, [21.419418, 20.16278 , 19.675207, 19.368479], [0.01254754, 0.0064988 , 0.00622461, 0.0076685 ], 19.368479, 0.0076685 , 19.368479, 0.0076685 , 0.25484362, 0.01782816, 0.2547493 , 0.0184105 , 12.781058  , 0., -1.        , 3010454189, 19.368479, 0.0076685 ,  2.82586130e-01,  2.45210784e-01,  7.84111589e-01,  8.17524514e-01,   0),\n",
       "       (201, 0.3261582, 323.873014, -1.013549, 0.5940204 , 0.6773636 , 0.17011583, 1.        , 0.99678093, [21.960676, 20.59813 , 20.076397, 19.771915], [0.02500962, 0.0124935 , 0.01172356, 0.0146088 ], 19.771915, 0.0146088 , 19.771915, 0.0146088 , 0.30824322, 0.01879075, 0.30697715, 0.01925576,  2.972214  , 0., -1.        , 3010454195, 19.771915, 0.0146088 , -8.25887417e-02, -2.10055885e-01,  9.20513480e-01,  7.98389931e-01,   0),\n",
       "       (201, 0.3261582, 323.872835, -0.9206  , 0.5823381 , 0.70515186, 1.        , 0.9988706 , 0.99845296, [22.733356, 21.187948, 20.63657 , 20.34085 ], [0.04295613, 0.01596237, 0.01485886, 0.02015011], 20.34085 , 0.02015011, 20.34085 , 0.02015011, 0.36040825, 0.02185288, 0.36074796, 0.0216186 ,  2.3677852 , 0., -1.        , 3010472130, 20.34085 , 0.02015011, -1.02414164e-01,  1.68687055e-01,  3.67369006e-01,  9.30191094e-01,  16),\n",
       "       (201, 0.3261582, 323.89151 , -0.922669, 0.5250579 , 0.810372  , 1.        , 0.2424714 , 0.9999797 , [22.734781, 21.205946, 20.722216, 20.42123 ], [0.04705593, 0.02191532, 0.02172772, 0.02698078], 20.42123 , 0.02698078, 20.42123 , 0.02698078, 0.32608303, 0.02256779, 0.32517457, 0.02289995,  0.66701335, 0., -1.        , 3010471861, 20.42123 , 0.02698078,  1.03679951e-02, -3.27730831e-02,  7.25321188e-01,  7.93823530e-01,   0),\n",
       "       (201, 0.3261582, 323.866706, -0.926824, 0.5447809 , 0.07559056, 1.        , 1.        , 0.9998961 , [21.153439, 19.51977 , 18.914846, 18.569849], [0.01621701, 0.00712469, 0.00669179, 0.00706709], 18.569849, 0.00706709, 18.569849, 0.00706709, 0.39962488, 0.02070105, 0.40126762, 0.0197992 , 12.177388  , 0., -1.        , 3010471693, 18.569849, 0.00706709, -7.90997245e-02,  4.59923630e-01,  1.05381818e+00,  6.13832854e-01,   2),\n",
       "       (201, 0.3261582, 323.835739, -0.92694 , 0.7940221 , 0.6916013 , 0.21139163, 1.        , 0.10107645, [22.29491 , 20.785994, 20.261942, 19.973335], [0.03228881, 0.01386296, 0.01331927, 0.01455768], 19.973335, 0.01455768, 19.973335, 0.01455768, 0.33607692, 0.01887736, 0.33548418, 0.01902756,  0.73369074, 0., -1.        , 3010471386, 19.973335, 0.01455768, -1.76133074e-01,  5.60608181e-02,  6.58915416e-01,  7.81121474e-01,   0),\n",
       "       (201, 0.3261582, 323.84072 , -0.927669, 0.7415692 , 0.43787646, 0.4718948 , 1.        , 0.41045085, [21.667294, 20.258255, 19.76441 , 19.492481], [0.0186807 , 0.00970253, 0.0095654 , 0.01032983], 19.492481, 0.01032983, 19.492481, 0.01032983, 0.29740712, 0.0178911 , 0.29610455, 0.01841383,  4.919446  , 0., -1.        , 3010471331, 19.492481, 0.01032983, -6.94638176e-03,  9.72761734e-02,  6.86202172e-01,  7.02934917e-01,   0),\n",
       "       (201, 0.3261582, 323.860887, -0.928991, 0.5611725 , 0.06797277, 1.        , 1.        , 0.99963963, [21.634483, 20.237255, 19.765163, 19.52198 ], [0.01920648, 0.01037951, 0.01035068, 0.01134316], 19.52198 , 0.01134316, 19.52198 , 0.01134316, 0.27773625, 0.01727833, 0.27676862, 0.01785815, 11.790605  , 0., -1.        , 3010470189, 19.52198 , 0.01134316,  1.79816268e-01,  5.72355162e-04,  6.78434353e-01,  7.32793539e-01,   2),\n",
       "       (201, 0.3261582, 323.876997, -0.933192, 0.4238562 , 0.7697517 , 1.        , 1.        , 1.        , [20.63993 , 19.006142, 18.449951, 18.141151], [0.00934063, 0.00534586, 0.00521022, 0.00547783], 18.141151, 0.00547783, 18.141151, 0.00547783, 0.3564558 , 0.01521044, 0.35663784, 0.01509614,  3.753804  , 0.,  0.3297726 , 3010470122, 18.141151, 0.00547783, -4.24725314e-02, -8.42325631e-02,  6.65654271e-01,  6.44076516e-01,   2),\n",
       "       (201, 0.3261582, 323.877227, -0.929357, 0.46637177, 0.88178635, 1.        , 1.        , 0.99999994, [22.268265, 20.746754, 20.21688 , 19.910456], [0.03104859, 0.0137377 , 0.01325982, 0.01421163], 19.910456, 0.01421163, 19.910456, 0.01421163, 0.34215146, 0.01993924, 0.34177527, 0.02001056,  0.35033458, 0., -1.        , 3010470096, 19.910456, 0.01421163,  8.09288506e-02, -6.45499272e-02,  6.74049408e-01,  7.63475700e-01,   0),\n",
       "       (201, 0.3261582, 323.857164, -0.932654, 0.5563396 , 0.6735991 , 0.3569122 , 0.6865147 , 0.99974763, [22.588331, 21.189667, 20.656828, 20.3928  ], [0.03585197, 0.01857835, 0.01760103, 0.01972909], 20.3928  , 0.01972909, 20.3928  , 0.01972909, 0.31944335, 0.02000474, 0.31836796, 0.02038018,  3.0009522 , 0., -1.        , 3010469684, 20.3928  , 0.01972909, -4.86522485e-02, -5.61849610e-02,  7.66840087e-01,  8.56500861e-01,   2),\n",
       "       (201, 0.3261582, 323.848378, -0.934085, 0.62218416, 0.08459842, 0.90610635, 1.        , 0.98466456, [21.474657, 20.210062, 19.657127, 19.329721], [0.01857374, 0.01186226, 0.01026866, 0.01201624], 19.329721, 0.01201624, 19.329721, 0.01201624, 0.30759415, 0.01943469, 0.3063199 , 0.01992181, 10.981734  , 0., -1.        , 3010469598, 19.329721, 0.01201624,  4.03265267e-02, -2.30980417e-02,  8.35892734e-01,  8.84223253e-01,   0),\n",
       "       (201, 0.3261582, 323.859228, -0.937707, 0.4960164 , 0.8702642 , 0.16446406, 1.        , 0.99999857, [22.39329 , 20.907503, 20.379173, 20.065763], [0.02764599, 0.01192807, 0.0111293 , 0.01304549], 20.065763, 0.01304549, 20.065763, 0.01304549, 0.33748847, 0.01957273, 0.33694297, 0.01970939,  0.33564132, 0., -1.        , 3010468081, 20.065763, 0.01304549,  8.46196354e-02, -1.37486653e-01,  9.16212287e-01,  6.09501974e-01,  16),\n",
       "       (201, 0.3261582, 323.846419, -0.943782, 0.5779088 , 0.07218605, 0.9172317 , 0.977936  , 0.9988436 , [22.510698, 21.283224, 20.692862, 20.34357 ], [0.04792487, 0.02816257, 0.02525948, 0.02922038], 20.34357 , 0.02922038, 20.34357 , 0.02922038, 0.31887797, 0.02397831, 0.3177893 , 0.02443637, 10.84034   , 0., -1.        , 3010467603, 20.34357 , 0.02922038, -4.51851276e-01, -3.57161047e-01,  9.60730665e-01,  8.50296649e-01,   0),\n",
       "       (201, 0.3261582, 323.898703, -0.949094, 0.23797843, 0.05665632, 1.        , 1.        , 1.        , [19.478636, 18.175722, 17.681015, 17.382572], [0.0050988 , 0.00365052, 0.00357966, 0.00396322], 17.382572, 0.00396322, 17.382572, 0.00396322, 0.25558534, 0.01556624, 0.2554562 , 0.01607686, 15.46465   , 0., -1.        , 3010467371, 17.382572, 0.00396322, -1.39598129e-02,  1.58686293e-01,  7.29312139e-01,  6.97812801e-01,   0),\n",
       "       (201, 0.3261582, 323.852652, -0.947454, 0.49153355, 0.7306775 , 0.29234284, 1.        , 0.9999991 , [22.359842, 20.953312, 20.46542 , 20.18983 ], [0.02974159, 0.01413731, 0.0134899 , 0.01630946], 20.18983 , 0.01630946, 20.18983 , 0.01630946, 0.29742846, 0.01883815, 0.29612586, 0.0193884 ,  2.9916668 , 0., -1.        , 3010466075, 20.18983 , 0.01630946,  2.21284994e-01, -9.58005496e-02,  7.80099206e-01,  8.94409717e-01,   0),\n",
       "       (201, 0.3261582, 323.870998, -0.949329, 0.29832372, 0.89219826, 0.2498663 , 1.        , 1.        , [22.057232, 20.553627, 20.077618, 19.782682], [0.0272496 , 0.01388909, 0.01354412, 0.01490229], 19.782682, 0.01490229, 19.782682, 0.01490229, 0.30824634, 0.01838507, 0.3069803 , 0.01884001,  1.9886463 , 0., -1.        , 3010465969, 19.782682, 0.01490229, -6.99410848e-02,  1.29549789e-01,  7.80974288e-01,  7.41926679e-01,   2),\n",
       "       (201, 0.3261582, 323.871246, -0.951269, 0.2805842 , 0.14307533, 0.94764113, 1.        , 1.        , [20.96327 , 19.568382, 19.105293, 18.84609 ], [0.00983585, 0.00573686, 0.0056969 , 0.00666865], 18.84609 , 0.00666865, 18.84609 , 0.00666865, 0.2733651 , 0.01600841, 0.27253187, 0.01655053, 12.850921  , 0., -1.        , 3010465854, 18.84609 , 0.00666865, -7.18407011e-03,  1.99718654e-02,  7.11289860e-01,  7.32185833e-01,   2),\n",
       "       (201, 0.3261582, 323.885328, -0.950989, 0.19108033, 0.96448886, 0.17331332, 1.        , 1.        , [21.883348, 20.372368, 19.837805, 19.5215  ], [0.02172951, 0.00976653, 0.00921431, 0.01122467], 19.5215  , 0.01122467, 19.5215  , 0.01122467, 0.33940515, 0.01868943, 0.33893004, 0.01879317,  0.43664834, 0., -1.        , 3010465777, 19.5215  , 0.01122467,  1.61862355e-01, -2.28218322e-03,  7.89905764e-01,  8.56071823e-01,   2),\n",
       "       (201, 0.3261582, 323.868862, -0.955757, 0.2738612 , 0.9433092 , 0.14292544, 1.        , 1.        , [21.628622, 20.093708, 19.592806, 19.286695], [0.02297449, 0.01180734, 0.01102068, 0.01246068], 19.286695, 0.01246068, 19.286695, 0.01246068, 0.32162356, 0.01852502, 0.32059425, 0.01884963,  0.48540702, 0., -1.        , 3010465445, 19.286695, 0.01246068, -9.99900000e+03, -9.99900000e+03, -9.99900000e+03, -9.99900000e+03,  74),\n",
       "       (201, 0.3261582, 323.839042, -1.006757, 0.7674856 , 0.27555016, 0.29111427, 1.        , 0.22822249, [22.0864  , 20.658077, 20.185892, 19.923994], [0.02260139, 0.00899412, 0.0087366 , 0.01082066], 19.923994, 0.01082066, 19.923994, 0.01082066, 0.29257327, 0.01763055, 0.29130846, 0.01817236,  6.379449  , 0., -1.        , 3010455641, 19.923994, 0.01082066,  2.69240286e-02,  1.08827873e-01,  6.97506281e-01,  6.63974559e-01,  18),\n",
       "       (201, 0.3261582, 323.878573, -0.971027, 0.13668722, 0.35487267, 0.91922736, 1.        , 1.        , [22.4915  , 21.18834 , 20.563892, 20.246197], [0.04887449, 0.02441853, 0.0199473 , 0.02277863], 20.246197, 0.02277863, 20.246197, 0.02277863, 0.35085994, 0.02352597, 0.35081917, 0.02345307, 11.226322  , 0., -1.        , 3010461771, 20.246197, 0.02277863,  1.75778693e-02,  6.86565546e-02,  3.12444853e-01,  8.91403348e-01,   2),\n",
       "       (201, 0.3261582, 323.876291, -0.970473, 0.16003999, 0.95830035, 0.18268937, 1.        , 1.        , [22.425423, 20.88245 , 20.368372, 20.086967], [0.03803632, 0.01631045, 0.016696  , 0.01762459], 20.086967, 0.01762459, 20.086967, 0.01762459, 0.33655003, 0.02006823, 0.33597285, 0.02022145,  1.021168  , 0., -1.        , 3010461823, 20.086967, 0.01762459, -2.46093659e-02, -6.43881409e-02,  6.43467559e-01,  7.52433051e-01,   2),\n",
       "       (201, 0.3261582, 323.876296, -0.950739, 0.24286166, 0.9279592 , 0.22545236, 1.        , 1.        , [22.384546, 20.838226, 20.297375, 19.98265 ], [0.02569599, 0.00987745, 0.0091934 , 0.01133959], 19.98265 , 0.01133959, 19.98265 , 0.01133959, 0.35538092, 0.02036848, 0.3555194 , 0.02023253,  1.4165435 , 0., -1.        , 3010465724, 19.98265 , 0.01133959,  1.54891491e-01, -1.38450672e-01,  7.61788753e-01,  8.43005928e-01,   2),\n",
       "       (201, 0.3261582, 323.839435, -0.970144, 0.5950074 , 0.7682129 , 0.13175172, 1.        , 0.9965832 , [22.193495, 20.63662 , 20.1062  , 19.81571 ], [0.03052368, 0.01338582, 0.01360846, 0.01631489], 19.81571 , 0.01631489, 19.81571 , 0.01631489, 0.34606856, 0.01932416, 0.34584138, 0.01933578,  1.1678371 , 0., -1.        , 3010461870, 19.81571 , 0.01631489, -7.51474393e-02, -3.76299465e-02,  6.98594801e-01,  6.53217153e-01,   2),\n",
       "       (201, 0.3261582, 323.871507, -0.961905, 0.21724616, 0.10596866, 0.9684437 , 1.        , 1.        , [21.548239, 19.932806, 19.412992, 19.016333], [0.0325152 , 0.01224687, 0.01111354, 0.0128036 ], 19.016333, 0.0128036 , 19.016333, 0.0128036 , 0.34343258, 0.02991443, 0.34310466, 0.02999235, 14.3230295 , 0., -1.        , 3010463697, 19.016333, 0.0128036 , -9.99900000e+03, -9.99900000e+03, -9.99900000e+03, -9.99900000e+03, 202),\n",
       "       (201, 0.3261582, 323.856742, -0.962447, 0.38964194, 0.8627416 , 0.1770733 , 1.        , 1.        , [20.821888, 19.250242, 18.706984, 18.389275], [0.01402032, 0.00781383, 0.00683481, 0.00735645], 18.389275, 0.00735645, 18.389275, 0.00735645, 0.34128317, 0.01698307, 0.34087592, 0.0170543 ,  0.54363614, 0., -1.        , 3010463716, 18.389275, 0.00735645,  5.91156252e-02,  2.18650640e-02,  3.81638807e-01,  5.27411071e-01,  66),\n",
       "       (201, 0.3261582, 323.866827, -0.960483, 0.27567473, 0.91710955, 0.18724442, 1.        , 1.        , [22.438179, 20.933195, 20.430023, 20.151121], [0.03849537, 0.01582626, 0.01507668, 0.01733241], 20.151121, 0.01733241, 20.151121, 0.01733241, 0.325098  , 0.01969635, 0.3241648 , 0.01999801,  1.0464973 , 0., -1.        , 3010463739, 20.151121, 0.01733241,  2.20643074e-01,  6.12408040e-02,  6.41092526e-01,  8.13920894e-01,   2),\n",
       "       (201, 0.3261582, 323.870811, -0.960263, 0.23089921, 0.28854272, 0.8963986 , 1.        , 1.        , [22.041105, 20.760582, 20.290928, 19.923082], [0.0409391 , 0.02091666, 0.01987148, 0.02353849], 19.923082, 0.02353849, 19.923082, 0.02353849, 0.26785508, 0.02074504, 0.26721448, 0.02144907, 10.685501  , 0., -1.        , 3010463781, 19.923082, 0.02353849, -9.99900000e+03, -9.99900000e+03, -9.99900000e+03, -9.99900000e+03, 202),\n",
       "       (201, 0.3261582, 323.857761, -0.962466, 0.3775323 , 0.8477628 , 0.20303935, 1.        , 1.        , [19.507534, 17.903873, 17.375704, 17.050266], [0.00763243, 0.00421194, 0.00409507, 0.00434819], 17.050266, 0.00434819, 17.050266, 0.00434819, 0.31626102, 0.01369666, 0.3151134 , 0.01397925,  0.64993525, 0., -1.        , 3010463818, 17.050266, 0.00434819,  2.48849190e-02, -5.61929006e-02,  4.02535411e-01,  6.08665909e-01,  66),\n",
       "       (201, 0.3261582, 323.869151, -0.959405, 0.2530145 , 0.8812865 , 0.28689504, 0.3327111 , 1.        , [22.974491, 21.734121, 21.139473, 20.486992], [0.27457723, 0.20337011, 0.19725825, 0.1956443 ], 20.486992, 0.1956443 , 20.486992, 0.1956443 , 0.34915948, 0.08717929, 0.34905168, 0.08702485,  2.691872  , 0., -1.        , 3010463839, 20.486992, 0.1956443 , -4.93230824e-02,  2.22002201e-02,  7.49579116e-01, -9.32528457e-01,  82),\n",
       "       (201, 0.3261582, 323.858515, -0.962507, 0.3685328 , 0.86215454, 0.19010115, 1.        , 1.        , [21.988392, 20.377403, 19.840017, 19.524998], [0.02891466, 0.01204755, 0.01149205, 0.0126224 ], 19.524998, 0.0126224 , 19.524998, 0.0126224 , 0.36057064, 0.02100854, 0.360917  , 0.02078059,  1.8527726 , 0., -1.        , 3010463586, 19.524998, 0.0126224 , -1.34851061e-02,  6.82097859e-02,  2.78485876e-01,  3.20733946e-01,  66),\n",
       "       (201, 0.3261582, 323.862574, -0.962815, 0.31996438, 0.8195579 , 0.30016655, 1.        , 1.        , [19.829695, 18.33821 , 17.841751, 17.549446], [0.00888465, 0.00496818, 0.00485596, 0.0052874 ], 17.549446, 0.0052874 , 17.549446, 0.0052874 , 0.29690966, 0.01513521, 0.29560772, 0.01558018,  4.181832  , 0., -1.        , 3010463879, 17.549446, 0.0052874 ,  1.28259587e-01,  2.05375186e-02,  7.37955018e-01,  8.00413087e-01,   2),\n",
       "       (201, 0.3261582, 323.836639, -0.959271, 0.63282335, 0.36826858, 0.47519308, 1.        , 0.97432435, [21.146309, 19.601265, 19.022917, 18.666466], [0.01567559, 0.0075383 , 0.0071635 , 0.00766352], 18.666466, 0.00766352, 18.666466, 0.00766352, 0.36417368, 0.02186012, 0.36466482, 0.02155896,  6.741412  , 0., -1.        , 3010463954, 18.666466, 0.00766352,  7.47230984e-03, -3.01404550e-02,  7.27346843e-01,  7.19549202e-01,   2),\n",
       "       (201, 0.3261582, 323.885219, -0.955808, 0.13620256, 0.64614785, 0.81977284, 1.        , 1.        , [21.53386 , 20.261972, 19.737032, 19.408575], [0.02569534, 0.01092822, 0.00997092, 0.01468225], 19.408575, 0.01468225, 19.408575, 0.01468225, 0.29012883, 0.01989798, 0.288896  , 0.02052246,  9.123257  , 0., -1.        , 3010465272, 19.408575, 0.01468225, -9.99900000e+03, -9.99900000e+03, -9.99900000e+03, -9.99900000e+03, 202),\n",
       "       (201, 0.3261582, 323.85172 , -0.957348, 0.45988134, 0.8321453 , 0.17634475, 0.99999964, 0.99999994, [22.54249 , 21.083948, 20.595436, 20.308634], [0.04155184, 0.01705017, 0.01626445, 0.01893261], 20.308634, 0.01893261, 20.308634, 0.01893261, 0.31054685, 0.02010107, 0.30930758, 0.02057612,  1.0934628 , 0., -1.        , 3010464064, 20.308634, 0.01893261, -2.43771793e-01,  1.20410379e-01,  5.74599607e-01,  8.72267242e-01,   2),\n",
       "       (201, 0.3261582, 323.857561, -0.960987, 0.38256374, 0.8644901 , 0.1810587 , 1.        , 1.        , [20.911362, 19.365856, 18.812428, 18.49283 ], [0.01236674, 0.00597069, 0.00571683, 0.00618586], 18.49283 , 0.00618586, 18.49283 , 0.00618586, 0.34532303, 0.01625893, 0.3450675 , 0.01627765,  1.4700322 , 0., -1.        , 3010464176, 18.49283 , 0.00618586, -4.05070746e-02,  1.27075585e-03,  5.44234700e-01,  5.93849053e-01,  66),\n",
       "       (201, 0.3261582, 323.829434, -0.957016, 0.72197396, 0.04266216, 0.9086135 , 1.        , 0.56573254, [21.984629, 20.614723, 20.16739 , 19.909285], [0.02360345, 0.0110596 , 0.01086205, 0.01256473], 19.909285, 0.01256473, 19.909285, 0.01256473, 0.2638997 , 0.01655672, 0.26341408, 0.01711555, 11.65119   , 0., -1.        , 3010464071, 19.909285, 0.01256473,  1.75685378e-01,  7.66499761e-02,  6.64080933e-01,  6.52572918e-01,  18),\n",
       "       (201, 0.3261582, 323.878563, -0.957446, 0.16613151, 0.7592514 , 0.6561408 , 1.        , 1.        , [22.156897, 20.736662, 20.293669, 19.968235], [0.03440634, 0.01583357, 0.01553793, 0.01753308], 19.968235, 0.01753308, 19.968235, 0.01753308, 0.2815749 , 0.01787917, 0.2805031 , 0.01847124,  6.887116  , 0., -1.        , 3010464096, 19.968235, 0.01753308, -2.06662439e-01,  4.33737578e-02,  8.37604190e-01,  6.59107972e-01,   2),\n",
       "       (201, 0.3261582, 323.85588 , -0.961409, 0.40156776, 0.13593867, 0.89388525, 1.        , 1.        , [22.107498, 20.79195 , 20.358742, 20.106976], [0.05009759, 0.03009111, 0.0299584 , 0.03352867], 20.106976, 0.03352867, 20.106976, 0.03352867, 0.24653381, 0.01966122, 0.24683051, 0.02026859, 10.821693  , 0., -1.        , 3010463915, 20.106976, 0.03352867, -1.13338709e-01,  8.18777380e-02,  5.03870152e-01,  5.81399876e-01,  66),\n",
       "       (201, 0.3261582, 323.840682, -0.963196, 0.5798977 , 0.83460224, 0.10611486, 1.        , 0.998681  , [22.529858, 21.042372, 20.534615, 20.213184], [0.03711717, 0.01456018, 0.01380185, 0.01883569], 20.213184, 0.01883569, 20.213184, 0.01883569, 0.3280269 , 0.02107789, 0.3271745 , 0.02136155,  0.3156718 , 0., -1.        , 3010463514, 20.213184, 0.01883569,  2.42867821e-02, -8.18617289e-02,  6.23427671e-01,  8.25419317e-01,  18),\n",
       "       (201, 0.3261582, 323.890719, -0.956088, 0.12629113, 0.15152262, 0.98113406, 0.79747945, 1.        , [22.712757, 21.94793 , 20.988874, 20.283169], [0.26640424, 0.18225785, 0.14090867, 0.14317967], 20.283169, 0.14317967, 20.283169, 0.14317967, 0.5638851 , 0.07618414, 0.56007135, 0.07812681, 13.919109  , 0., -1.        , 3010464173, 20.283169, 0.14317967, -2.51407750e-01, -2.38231576e-01,  2.69338343e+00,  1.24814001e+00,  18),\n",
       "       (201, 0.3261582, 323.854572, -0.969681, 0.41423512, 0.8506814 , 0.15777075, 1.        , 1.        , [20.867273, 19.293434, 18.770016, 18.436747], [0.01389149, 0.00669219, 0.00646598, 0.00697319], 18.436747, 0.00697319, 18.436747, 0.00697319, 0.32452604, 0.01832756, 0.323577  , 0.01861488,  1.5267525 , 0., -1.        , 3010461991, 18.436747, 0.00697319,  2.65507147e-01,  4.65936665e-02,  5.76699903e-01,  8.29872735e-01,   2),\n",
       "       (201, 0.3261582, 323.872436, -0.965122, 0.19970901, 0.95116043, 0.16913223, 1.        , 1.        , [22.1796  , 20.708239, 20.215706, 19.921137], [0.02977264, 0.01325868, 0.01279253, 0.01439983], 19.921137, 0.01439983, 19.921137, 0.01439983, 0.31215692, 0.01876381, 0.31093824, 0.01919216,  0.93409395, 0., -1.        , 3010463331, 19.921137, 0.01439983,  1.06764318e-02,  3.00134293e-02,  7.56053078e-01,  6.58786153e-01,   2),\n",
       "       (201, 0.3261582, 323.868205, -0.965867, 0.24969618, 0.91746825, 0.20149082, 1.        , 1.        , [19.889284, 18.273458, 17.732508, 17.420006], [0.00990008, 0.00542027, 0.00526836, 0.00561922], 17.420006, 0.00561922, 17.420006, 0.00561922, 0.33583972, 0.01470667, 0.33523917, 0.01482606,  0.59319216, 0.,  0.32519993, 3010463236, 17.420006, 0.00561922,  2.68539585e-02,  8.76040297e-02,  3.44366640e-01,  6.85424835e-01,   2),\n",
       "       (201, 0.3261582, 323.874778, -0.968382, 0.17244382, 0.91617775, 0.30171007, 1.        , 1.        , [22.259674, 20.711615, 20.21062 , 19.948162], [0.03131033, 0.01305353, 0.01255344, 0.01426977], 19.948162, 0.01426977, 19.948162, 0.01426977, 0.33014315, 0.01831209, 0.32935733, 0.01853231,  3.5319197 , 0., -1.        , 3010462003, 19.948162, 0.01426977, -3.43150135e-02,  8.71444650e-02,  6.69260742e-01,  7.22939030e-01,   2),\n",
       "       (201, 0.3261582, 323.883416, -0.970844, 0.08518697, 0.9714544 , 0.21870756, 1.        , 1.        , [22.091757, 20.698854, 20.195135, 19.896744], [0.03726324, 0.0173887 , 0.01649541, 0.01920406], 19.896744, 0.01920406, 19.896744, 0.01920406, 0.3016191 , 0.0197872 , 0.30030718, 0.02033487,  1.8309883 , 0., -1.        , 3010461877, 19.896744, 0.01920406, -9.99900000e+03, -9.99900000e+03, -9.99900000e+03, -9.99900000e+03,  10),\n",
       "       (201, 0.3261582, 323.839205, -0.964967, 0.5964742 , 0.64331025, 0.23568487, 1.        , 0.9962693 , [22.03692 , 20.456692, 19.919567, 19.63748 ], [0.02741534, 0.0104744 , 0.00982845, 0.01128388], 19.63748 , 0.01128388, 19.63748 , 0.01128388, 0.3514898 , 0.01705363, 0.351474  , 0.0169926 ,  3.5299857 , 0., -1.        , 3010463369, 19.63748 , 0.01128388,  1.60522300e-01,  2.98898224e-01,  8.50853738e-01,  8.01965937e-01,   2),\n",
       "       (201, 0.3261582, 323.851163, -0.965328, 0.45348585, 0.8289501 , 0.16393316, 0.98101443, 1.        , [22.78819 , 21.177845, 20.661678, 20.360064], [0.06575478, 0.01888032, 0.01781533, 0.02039551], 20.360064, 0.02039551, 20.360064, 0.02039551, 0.35549426, 0.02428298, 0.3556373 , 0.02411874,  1.419489  , 0., -1.        , 3010463291, 20.360064, 0.02039551, -5.13165448e-02,  1.09533980e-02,  7.72378704e-01,  7.84755641e-01,   2)],\n",
       "      dtype=[('MEM_MATCH_ID', '>i4'), ('Z', '>f4'), ('RA', '>f8'), ('DEC', '>f8'), ('R', '>f4'), ('P', '>f4'), ('PFREE', '>f4'), ('THETA_I', '>f4'), ('THETA_R', '>f4'), ('MODEL_MAG', '>f4', (4,)), ('MODEL_MAGERR', '>f4', (4,)), ('REFMAG_FIT', '>f4'), ('REFMAG_FIT_E', '>f4'), ('REFMAG', '>f4'), ('REFMAG_ERR', '>f4'), ('ZRED', '>f4'), ('ZRED_E', '>f4'), ('ZRED2', '>f4'), ('ZRED2_E', '>f4'), ('CHISQ', '>f4'), ('EBV', '>f4'), ('ZSPEC', '>f4'), ('ID', '>i8'), ('ZMAG', '>f4'), ('ZMAG_ERR', '>f4'), ('e1', '>f8'), ('e2', '>f8'), ('R11', '>f8'), ('R22', '>f8'), ('flags_select', '>i8')])"
      ]
     },
     "execution_count": 117,
     "metadata": {},
     "output_type": "execute_result"
    }
   ],
   "source": [
    "get_sat(201)"
   ]
  },
  {
   "cell_type": "code",
   "execution_count": 116,
   "metadata": {},
   "outputs": [
    {
     "data": {
      "text/plain": [
       "array([[-58.998172, -58.961363, -58.958452, ..., -58.924381, -58.931509,\n",
       "        -58.935635],\n",
       "       [-54.538176, -54.540615, -54.538359, ...,        nan,        nan,\n",
       "               nan],\n",
       "       [-48.30258 , -48.302291, -48.298153, ...,        nan,        nan,\n",
       "               nan],\n",
       "       ...,\n",
       "       [-53.645073, -53.641908, -53.650738, ...,        nan,        nan,\n",
       "               nan],\n",
       "       [-54.129553, -54.114348, -54.112536, ...,        nan,        nan,\n",
       "               nan],\n",
       "       [-52.84    , -52.82063 , -52.866819, ...,        nan,        nan,\n",
       "               nan]])"
      ]
     },
     "execution_count": 116,
     "metadata": {},
     "output_type": "execute_result"
    }
   ],
   "source": []
  },
  {
   "cell_type": "code",
   "execution_count": null,
   "metadata": {},
   "outputs": [],
   "source": []
  }
 ],
 "metadata": {
  "kernelspec": {
   "display_name": "Python 3",
   "language": "python",
   "name": "python3"
  },
  "language_info": {
   "codemirror_mode": {
    "name": "ipython",
    "version": 3
   },
   "file_extension": ".py",
   "mimetype": "text/x-python",
   "name": "python",
   "nbconvert_exporter": "python",
   "pygments_lexer": "ipython3",
   "version": "3.6.6"
  }
 },
 "nbformat": 4,
 "nbformat_minor": 2
}
