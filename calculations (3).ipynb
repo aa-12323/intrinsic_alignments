{
 "cells": [
  {
   "cell_type": "code",
   "execution_count": 1,
   "metadata": {},
   "outputs": [],
   "source": [
    "import fitsio as fio\n",
    "from astropy.cosmology import FlatLambdaCDM\n",
    "from astropy import units as u\n",
    "from astropy.coordinates import SkyCoord\n",
    "import numpy as np\n",
    "import matplotlib.pyplot as plt\n",
    "import scipy.stats as stats\n",
    "import time as time"
   ]
  },
  {
   "cell_type": "code",
   "execution_count": 2,
   "metadata": {},
   "outputs": [],
   "source": [
    "mem = fio.FITS('/lsst/troxel/y1a1/lgt5_member_mcal_combined.fits')[-1] # Member/shape catalog\n",
    "clus = fio.FITS('/lsst/troxel/y1a1/y1a1_gold_1.0.3-d10-mof-001d_run_redmapper_v6.4.17_lgt5_desformat_catalog.fit')[-1] # Cluster catalog\n",
    "cent = fio.FITS('/lsst/troxel/y1a1/central_member_shapes.fits')[-1] # Central/shape catalog\n",
    "sat = fio.FITS('/lsst/troxel/y1a1/sat_member_shapes.fits')[-1] # Satellite/shape catalog"
   ]
  },
  {
   "cell_type": "code",
   "execution_count": 3,
   "metadata": {},
   "outputs": [],
   "source": [
    "cosmo = FlatLambdaCDM(H0=70, Om0=0.3) # Use standard cosmological model"
   ]
  },
  {
   "cell_type": "code",
   "execution_count": 4,
   "metadata": {},
   "outputs": [],
   "source": [
    "# Slice to the galaxies of specified catalog and cluster\n",
    "def get_clus(catalog, clus_id):\n",
    "    clus_mems = catalog.read()[np.in1d(catalog['MEM_MATCH_ID'].read(), clus_id, assume_unique=False)]\n",
    "    \n",
    "    return clus_mems"
   ]
  },
  {
   "cell_type": "code",
   "execution_count": 5,
   "metadata": {},
   "outputs": [],
   "source": [
    "# Slice to the central galaxy of specified cluster\n",
    "def get_cent(clus_id):\n",
    "    clus_cent = get_clus(cent, clus_id)\n",
    "    \n",
    "    return clus_cent"
   ]
  },
  {
   "cell_type": "code",
   "execution_count": 6,
   "metadata": {},
   "outputs": [],
   "source": [
    "# Slice to satellite galaxies of specified cluster\n",
    "def get_sat(clus_id):\n",
    "    clus_sat = get_clus(sat, clus_id)\n",
    "    \n",
    "    return clus_sat"
   ]
  },
  {
   "cell_type": "code",
   "execution_count": 7,
   "metadata": {},
   "outputs": [],
   "source": [
    "# Slice to specified column of satellite galaxies\n",
    "def get_sat_prop(clus_id, prop):\n",
    "    mask = sat['MEM_MATCH_ID'].read()==clus_id\n",
    "    sat_prop = sat[prop].read()[mask]\n",
    "    \n",
    "    return sat_prop"
   ]
  },
  {
   "cell_type": "code",
   "execution_count": 8,
   "metadata": {},
   "outputs": [],
   "source": [
    "# Calculate comoving distance\n",
    "def co_distance(z):\n",
    "    co_distance = cosmo.comoving_distance(z)\n",
    "    \n",
    "    return co_distance"
   ]
  },
  {
   "cell_type": "code",
   "execution_count": 9,
   "metadata": {},
   "outputs": [],
   "source": [
    "# Calculate angular diameter distance\n",
    "def ad_distance(z):\n",
    "    ad_distance = co_distance(z) / (z + np.ones(len(z)))\n",
    "    \n",
    "    return ad_distance"
   ]
  },
  {
   "cell_type": "code",
   "execution_count": 10,
   "metadata": {},
   "outputs": [],
   "source": [
    "# Calculate angular separation\n",
    "def separation(clus_id):\n",
    "    cent_pos = SkyCoord(np.ones(len(get_clus(mem, clus_id)['RA']))*get_clus(cent, clus_id)['RA']*u.deg, np.ones(len(get_clus(mem, clus_id)['DEC']))*get_clus(cent, clus_id)['DEC']*u.deg, frame='icrs')\n",
    "    sat_pos = SkyCoord(get_clus(mem, clus_id)['RA']*u.deg, get_clus(mem, clus_id)['DEC']*u.deg, frame='icrs')\n",
    "    sep = cent_pos.separation(sat_pos)\n",
    "    \n",
    "    return sep"
   ]
  },
  {
   "cell_type": "code",
   "execution_count": 11,
   "metadata": {},
   "outputs": [],
   "source": [
    "# Calculate 3D distance\n",
    "def distance_3d(clus_id):\n",
    "    cent_distance = ad_distance(get_clus(cent, clus_id)['Z'])\n",
    "    sat_distance = ad_distance(get_clus(mem, clus_id)['Z'])\n",
    "    cent_pos = SkyCoord(np.ones(len(get_clus(mem, clus_id)['RA']))*get_clus(cent, clus_id)['RA']*u.deg, np.ones(len(get_clus(mem, clus_id)['DEC']))*get_clus(cent, clus_id)['DEC']*u.deg, distance=np.ones(len(get_clus(mem, clus_id)['Z']))*cent_distance, frame='icrs')\n",
    "    sat_pos = SkyCoord(get_clus(mem, clus_id)['RA']*u.deg, get_clus(mem, clus_id)['DEC']*u.deg, distance=sat_distance, frame='icrs')\n",
    "    sep_3d = cent_pos.separation_3d(sat_pos)\n",
    "    \n",
    "    return sep_3d"
   ]
  },
  {
   "cell_type": "code",
   "execution_count": 12,
   "metadata": {},
   "outputs": [],
   "source": [
    "# Approximate 3D distance\n",
    "def approx_distance(clus_id):\n",
    "    ang_sep = separation(clus_id)\n",
    "    cent_distance = ad_distance(get_clus(cent, clus_id)['Z'])\n",
    "    approx_distance = np.radians(ang_sep) * cent_distance\n",
    "    \n",
    "    return approx_distance"
   ]
  },
  {
   "cell_type": "code",
   "execution_count": 13,
   "metadata": {},
   "outputs": [],
   "source": [
    "# Calculate position angle\n",
    "def pos_ang(e1, e2):\n",
    "    alpha = np.arctan2(e2, e1)/2\n",
    "    \n",
    "    return alpha"
   ]
  },
  {
   "cell_type": "code",
   "execution_count": 14,
   "metadata": {},
   "outputs": [],
   "source": [
    "# Create 2D array for specified property of all satellite galaxies\n",
    "def sat_prop(prop):\n",
    "    sat_prop_full = sat[prop].read()\n",
    "    sat_id, counts = np.unique(sat['MEM_MATCH_ID'].read(), return_counts=True)\n",
    "    new_array = np.zeros((231185,308))\n",
    "    k = 0\n",
    "    for i in range(231185):\n",
    "        new_array[i, 0:counts[i]] = sat_prop_full[k:k+counts[i]]\n",
    "        new_array[i, counts[i]:] = np.nan\n",
    "        k = k + counts[i]\n",
    "    \n",
    "    return new_array"
   ]
  },
  {
   "cell_type": "code",
   "execution_count": 15,
   "metadata": {},
   "outputs": [],
   "source": [
    "# Calculate satellite angular position for all satellite galaxies\n",
    "def sat_ang_pos():\n",
    "    sat_ra = np.radians(sat_prop('RA'))\n",
    "    sat_dec = np.radians(sat_prop('DEC'))\n",
    "    cent_ra = np.radians(cent['RA'].read().reshape(231185,-1))\n",
    "    cent_dec = np.radians(cent['DEC'].read().reshape(231185,-1))\n",
    "    x = np.sin(sat_dec) * np.cos(cent_dec) - np.cos(sat_dec) * np.sin(cent_dec) * np.cos(sat_ra-cent_ra)\n",
    "    y = np.sin(sat_ra-cent_ra) * np.cos(sat_dec)\n",
    "    sat_ang = np.arctan2(y, x)\n",
    "    \n",
    "    return sat_ang"
   ]
  },
  {
   "cell_type": "code",
   "execution_count": 16,
   "metadata": {},
   "outputs": [],
   "source": [
    "# Calculate central galaxy alignment angle for all viable clusters\n",
    "def cent_gal_ang():\n",
    "    sat_pos_ang = sat_ang_pos()\n",
    "    cent_pos_ang = pos_ang(cent['e1'].read(), cent['e2'].read()).reshape(231185,-1)\n",
    "    theta = sat_pos_ang - cent_pos_ang\n",
    "    theta = np.arcsin(np.absolute(np.sin(theta)))\n",
    "    theta = np.degrees(theta)\n",
    "    \n",
    "    return theta"
   ]
  },
  {
   "cell_type": "code",
   "execution_count": 17,
   "metadata": {},
   "outputs": [],
   "source": [
    "central_ang = cent_gal_ang()\n",
    "mask = ~np.isnan(central_ang)\n",
    "central_ang = central_ang[mask]"
   ]
  },
  {
   "cell_type": "code",
   "execution_count": 18,
   "metadata": {},
   "outputs": [
    {
     "data": {
      "image/png": "[encoded data removed]",
      "text/plain": [
       "<Figure size 432x288 with 1 Axes>"
      ]
     },
     "metadata": {
      "needs_background": "light"
     },
     "output_type": "display_data"
    }
   ],
   "source": [
    "plt.hist(central_ang, bins=[0.,10.,20.,30.,40.,50.,60.,70.,80.,90.], density=True)\n",
    "plt.show()"
   ]
  },
  {
   "cell_type": "code",
   "execution_count": 19,
   "metadata": {},
   "outputs": [],
   "source": [
    "# Count satellite galaxies in each quadrant with specified axis angle\n",
    "def quad_counts(theta):\n",
    "    sat_pos = np.degrees(sat_ang_pos()) + 180\n",
    "    theta = theta + 180\n",
    "    q1_count = np.sum(np.logical_and(np.less_equal(theta-180, sat_pos), np.less(sat_pos, theta-90)), axis=1)\n",
    "    q2_count = np.sum(np.logical_and(np.less_equal(theta-90, sat_pos), np.less(sat_pos, theta)), axis=1)\n",
    "    q3_count = np.sum(np.logical_and(np.less_equal(theta, sat_pos), np.less(sat_pos, theta+90)), axis=1)\n",
    "    q4_count = np.sum(np.logical_and(np.less_equal(theta+90, sat_pos), np.less(sat_pos, theta+180)), axis=1)\n",
    "    \n",
    "    return np.array([q1_count, q2_count, q3_count, q4_count])"
   ]
  },
  {
   "cell_type": "code",
   "execution_count": 20,
   "metadata": {},
   "outputs": [],
   "source": [
    "# Calculate chi squared for quadrant counts of each cluster with specified axis angle\n",
    "def q_chisq(theta):\n",
    "    q_i = quad_counts(theta)\n",
    "    chi_sq, p = stats.chisquare(q_i)\n",
    "    \n",
    "    return chi_sq"
   ]
  },
  {
   "cell_type": "code",
   "execution_count": 21,
   "metadata": {},
   "outputs": [],
   "source": [
    "# Make array of chi squared values for n angles between 0 and 90 degrees\n",
    "def q_array(n):\n",
    "    new_array = np.zeros((n, 231185))\n",
    "    for i in range(n):\n",
    "        chisq_i = q_chisq(90*i/n)\n",
    "        new_array[i] = chisq_i\n",
    "    \n",
    "    return new_array"
   ]
  },
  {
   "cell_type": "code",
   "execution_count": 22,
   "metadata": {},
   "outputs": [],
   "source": [
    "# Approximate cluster position angles by finding the least chi squared values\n",
    "def q_pa(n):\n",
    "    chisq_array = q_array(n)\n",
    "    chi_sort = np.argmin(chisq_array, axis=0)\n",
    "    n_ang = np.arange(n)*90/n\n",
    "    thetas = n_ang[chi_sort]\n",
    "    \n",
    "    return thetas"
   ]
  },
  {
   "cell_type": "code",
   "execution_count": 23,
   "metadata": {},
   "outputs": [
    {
     "name": "stderr",
     "output_type": "stream",
     "text": [
      "/cvmfs/sw.lsst.eu/linux-x86_64/lsst_distrib/w_2019_10/python/miniconda3-4.5.4/envs/lsst-scipipe-fcd27eb/lib/python3.6/site-packages/ipykernel_launcher.py:5: RuntimeWarning: invalid value encountered in less_equal\n",
      "  \"\"\"\n",
      "/cvmfs/sw.lsst.eu/linux-x86_64/lsst_distrib/w_2019_10/python/miniconda3-4.5.4/envs/lsst-scipipe-fcd27eb/lib/python3.6/site-packages/ipykernel_launcher.py:5: RuntimeWarning: invalid value encountered in less\n",
      "  \"\"\"\n",
      "/cvmfs/sw.lsst.eu/linux-x86_64/lsst_distrib/w_2019_10/python/miniconda3-4.5.4/envs/lsst-scipipe-fcd27eb/lib/python3.6/site-packages/ipykernel_launcher.py:6: RuntimeWarning: invalid value encountered in less_equal\n",
      "  \n",
      "/cvmfs/sw.lsst.eu/linux-x86_64/lsst_distrib/w_2019_10/python/miniconda3-4.5.4/envs/lsst-scipipe-fcd27eb/lib/python3.6/site-packages/ipykernel_launcher.py:6: RuntimeWarning: invalid value encountered in less\n",
      "  \n",
      "/cvmfs/sw.lsst.eu/linux-x86_64/lsst_distrib/w_2019_10/python/miniconda3-4.5.4/envs/lsst-scipipe-fcd27eb/lib/python3.6/site-packages/ipykernel_launcher.py:7: RuntimeWarning: invalid value encountered in less_equal\n",
      "  import sys\n",
      "/cvmfs/sw.lsst.eu/linux-x86_64/lsst_distrib/w_2019_10/python/miniconda3-4.5.4/envs/lsst-scipipe-fcd27eb/lib/python3.6/site-packages/ipykernel_launcher.py:7: RuntimeWarning: invalid value encountered in less\n",
      "  import sys\n",
      "/cvmfs/sw.lsst.eu/linux-x86_64/lsst_distrib/w_2019_10/python/miniconda3-4.5.4/envs/lsst-scipipe-fcd27eb/lib/python3.6/site-packages/ipykernel_launcher.py:8: RuntimeWarning: invalid value encountered in less_equal\n",
      "  \n",
      "/cvmfs/sw.lsst.eu/linux-x86_64/lsst_distrib/w_2019_10/python/miniconda3-4.5.4/envs/lsst-scipipe-fcd27eb/lib/python3.6/site-packages/ipykernel_launcher.py:8: RuntimeWarning: invalid value encountered in less\n",
      "  \n",
      "/cvmfs/sw.lsst.eu/linux-x86_64/lsst_distrib/w_2019_10/python/miniconda3-4.5.4/envs/lsst-scipipe-fcd27eb/lib/python3.6/site-packages/scipy/stats/stats.py:4567: RuntimeWarning: invalid value encountered in true_divide\n",
      "  terms = (f_obs - f_exp)**2 / f_exp\n",
      "/cvmfs/sw.lsst.eu/linux-x86_64/lsst_distrib/w_2019_10/python/miniconda3-4.5.4/envs/lsst-scipipe-fcd27eb/lib/python3.6/site-packages/scipy/stats/_distn_infrastructure.py:879: RuntimeWarning: invalid value encountered in greater\n",
      "  return (self.a < x) & (x < self.b)\n",
      "/cvmfs/sw.lsst.eu/linux-x86_64/lsst_distrib/w_2019_10/python/miniconda3-4.5.4/envs/lsst-scipipe-fcd27eb/lib/python3.6/site-packages/scipy/stats/_distn_infrastructure.py:879: RuntimeWarning: invalid value encountered in less\n",
      "  return (self.a < x) & (x < self.b)\n",
      "/cvmfs/sw.lsst.eu/linux-x86_64/lsst_distrib/w_2019_10/python/miniconda3-4.5.4/envs/lsst-scipipe-fcd27eb/lib/python3.6/site-packages/scipy/stats/_distn_infrastructure.py:1821: RuntimeWarning: invalid value encountered in less_equal\n",
      "  cond2 = cond0 & (x <= self.a)\n"
     ]
    }
   ],
   "source": [
    "q_clus_pa = q_pa(10)"
   ]
  },
  {
   "cell_type": "code",
   "execution_count": 24,
   "metadata": {},
   "outputs": [
    {
     "data": {
      "image/png": "[encoded data removed]",
      "text/plain": [
       "<Figure size 432x288 with 1 Axes>"
      ]
     },
     "metadata": {
      "needs_background": "light"
     },
     "output_type": "display_data"
    }
   ],
   "source": [
    "plt.hist(q_clus_pa, bins=[0.,10.,20.,30.,40.,50.,60.,70.,80.,90.], density=True)\n",
    "plt.show()"
   ]
  },
  {
   "cell_type": "code",
   "execution_count": 25,
   "metadata": {},
   "outputs": [],
   "source": [
    "def mom_2(p, x, y, a, b):\n",
    "    mom_top = p*a*b/(x**2+y**2)\n",
    "    mom_sum = np.sum(np.nan_to_num(mom_top), axis=1)/np.sum(np.nan_to_num(p), axis=1)\n",
    "    \n",
    "    return mom_sum"
   ]
  },
  {
   "cell_type": "code",
   "execution_count": 26,
   "metadata": {},
   "outputs": [],
   "source": [
    "def clus_pa():\n",
    "    sat_ra = sat_prop('RA')\n",
    "    sat_dec = sat_prop('DEC')\n",
    "    cent_ra = cent['RA'].read().reshape((231185,-1))\n",
    "    cent_dec = cent['DEC'].read().reshape((231185,-1))\n",
    "    p_i = sat_prop('P') * sat_prop('PFREE')\n",
    "    x_i = sat_ra - cent_ra\n",
    "    y_i = sat_dec - cent_dec\n",
    "    m_xx = mom_2(p_i, x_i, y_i, x_i, x_i)\n",
    "    m_xy = mom_2(p_i, x_i, y_i, x_i, y_i)\n",
    "    m_yy = mom_2(p_i, x_i, y_i, y_i, y_i)\n",
    "    beta = np.arctan2(2*m_xy, (m_xx-m_yy)) / 2\n",
    "    \n",
    "    return beta"
   ]
  },
  {
   "cell_type": "code",
   "execution_count": 27,
   "metadata": {},
   "outputs": [],
   "source": [
    "def alignment():\n",
    "    cent_pa = pos_ang(cent['e1'].read(), cent['e2'].read())\n",
    "    clust_pa = clus_pa()\n",
    "    theta = cent_pa - clust_pa\n",
    "    theta = np.arcsin(np.absolute(np.sin(theta)))\n",
    "    theta = np.degrees(theta)\n",
    "    \n",
    "    return theta"
   ]
  },
  {
   "cell_type": "code",
   "execution_count": null,
   "metadata": {},
   "outputs": [],
   "source": [
    "stat_align = alignment()"
   ]
  },
  {
   "cell_type": "code",
   "execution_count": 26,
   "metadata": {},
   "outputs": [
    {
     "data": {
      "image/png": "[encoded data removed]",
      "text/plain": [
       "<Figure size 432x288 with 1 Axes>"
      ]
     },
     "metadata": {
      "needs_background": "light"
     },
     "output_type": "display_data"
    }
   ],
   "source": [
    "plt.hist(stat_align, bins=[0.,10.,20.,30.,40.,50.,60.,70.,80.,90.], density=True)\n",
    "plt.show()"
   ]
  },
  {
   "cell_type": "code",
   "execution_count": null,
   "metadata": {},
   "outputs": [],
   "source": []
  }
 ],
 "metadata": {
  "kernelspec": {
   "display_name": "Python 3",
   "language": "python",
   "name": "python3"
  },
  "language_info": {
   "codemirror_mode": {
    "name": "ipython",
    "version": 3
   },
   "file_extension": ".py",
   "mimetype": "text/x-python",
   "name": "python",
   "nbconvert_exporter": "python",
   "pygments_lexer": "ipython3",
   "version": "3.6.6"
  }
 },
 "nbformat": 4,
 "nbformat_minor": 2
}
