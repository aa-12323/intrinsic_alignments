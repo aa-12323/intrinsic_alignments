{
 "cells": [
  {
   "cell_type": "code",
   "execution_count": 62,
   "metadata": {},
   "outputs": [],
   "source": [
    "import fitsio as fio\n",
    "from astropy.cosmology import FlatLambdaCDM\n",
    "from astropy import units as u\n",
    "from astropy.coordinates import SkyCoord\n",
    "import numpy as np\n",
    "import matplotlib.pyplot as plt\n",
    "import scipy.stats as stats\n",
    "import time as time"
   ]
  },
  {
   "cell_type": "code",
   "execution_count": 63,
   "metadata": {},
   "outputs": [],
   "source": [
    "mem = fio.FITS('/lsst/troxel/y1a1/lgt5_member_mcal_combined.fits')[-1] # Member/shape catalog\n",
    "clus = fio.FITS('/lsst/troxel/y1a1/y1a1_gold_1.0.3-d10-mof-001d_run_redmapper_v6.4.17_lgt5_desformat_catalog.fit')[-1] # Cluster catalog\n",
    "cent = fio.FITS('/lsst/troxel/y1a1/central_member_shapes.fits')[-1] # Central/shape catalog"
   ]
  },
  {
   "cell_type": "code",
   "execution_count": 64,
   "metadata": {},
   "outputs": [],
   "source": [
    "cosmo = FlatLambdaCDM(H0=70, Om0=0.3) # Use standard cosmological model"
   ]
  },
  {
   "cell_type": "code",
   "execution_count": 65,
   "metadata": {},
   "outputs": [],
   "source": [
    "# Slice to the galaxies of specified catalog and cluster\n",
    "def get_clus(catalog, clus_id):\n",
    "    clus_mems = catalog.read()[np.in1d(catalog['MEM_MATCH_ID'].read(), clus_id, assume_unique=False)]\n",
    "    \n",
    "    return clus_mems"
   ]
  },
  {
   "cell_type": "code",
   "execution_count": 66,
   "metadata": {},
   "outputs": [],
   "source": [
    "# Slice to the central galaxy of specified cluster\n",
    "def get_cent(clus_id):\n",
    "    clus_cent = get_clus(cent, clus_id)\n",
    "    \n",
    "    return clus_cent"
   ]
  },
  {
   "cell_type": "code",
   "execution_count": 67,
   "metadata": {},
   "outputs": [],
   "source": [
    "# Slice to satellite galaxies of specified cluster\n",
    "def get_sat(clus_id):\n",
    "    mems = get_clus(mem, clus_id)\n",
    "    cen = get_cent(clus_id)\n",
    "    mask = np.in1d(mems, cen, assume_unique=True, invert=True)\n",
    "    mems = mems[mask]\n",
    "    \n",
    "    return mems"
   ]
  },
  {
   "cell_type": "code",
   "execution_count": 68,
   "metadata": {},
   "outputs": [],
   "source": [
    "# Calculate position angle\n",
    "def pos_ang(e1, e2):\n",
    "    alpha = np.degrees(np.arctan2(e2, e1)/2) * u.deg\n",
    "    \n",
    "    return alpha"
   ]
  },
  {
   "cell_type": "code",
   "execution_count": 69,
   "metadata": {},
   "outputs": [],
   "source": [
    "# Calculate satellite angular position with respect to central\n",
    "def sat_ang_pos(clus_id):\n",
    "    sat_ra = get_sat(clus_id)['RA'] * u.deg\n",
    "    sat_dec = get_sat(clus_id)['DEC'] * u.deg\n",
    "    cent_ra = np.ones(len(sat_ra)) * get_cent(clus_id)['RA'] * u.deg\n",
    "    cent_dec = np.ones(len(sat_dec)) * get_cent(clus_id)['DEC'] * u.deg\n",
    "    sat_pos = SkyCoord(sat_ra, sat_dec, frame='icrs')\n",
    "    cent_pos = SkyCoord(cent_ra, cent_dec, frame='icrs')\n",
    "    sat_ang = cent_pos.position_angle(sat_pos).to(u.deg)\n",
    "    \n",
    "    return sat_ang"
   ]
  },
  {
   "cell_type": "code",
   "execution_count": 70,
   "metadata": {},
   "outputs": [],
   "source": [
    "# Calculate central galaxy alignment angle\n",
    "def cent_gal_ang(clus_id):\n",
    "    sat_pos_ang = sat_ang_pos(clus_id)\n",
    "    cent_pos_ang = np.ones(len(sat_pos_ang)) * pos_ang(get_cent(clus_id)['e1'], get_cent(clus_id)['e2'])\n",
    "    theta = sat_pos_ang - cent_pos_ang\n",
    "    theta = theta.to(u.rad)\n",
    "    theta = np.arcsin(np.sin(theta))\n",
    "    theta = np.arccos(np.cos(theta))\n",
    "    theta = theta.to(u.deg)\n",
    "    \n",
    "    return theta"
   ]
  },
  {
   "cell_type": "code",
   "execution_count": 71,
   "metadata": {},
   "outputs": [],
   "source": [
    "# Calculate central galaxy alignment angle for all viable clusters\n",
    "def cent_ang_all():\n",
    "    cent_id = cent['MEM_MATCH_ID'].read()\n",
    "    new_array = np.zeros(len(mem.read())-len(cent.read()))\n",
    "    k = 0\n",
    "    for i in range(3000):\n",
    "        cga = cent_gal_ang(cent_id[i])\n",
    "        new_array[k:k+len(cga)] = cga\n",
    "        k = k + len(cga)\n",
    "    \n",
    "    return new_array"
   ]
  },
  {
   "cell_type": "code",
   "execution_count": 72,
   "metadata": {},
   "outputs": [],
   "source": [
    "# Count the satellite galaxies in each quadrant with specified axis angle (from horizontal)\n",
    "def quad_counts(clus_id, theta):\n",
    "    sat_pos_ang = sat_ang_pos(clus_id)\n",
    "    theta = theta * u.deg\n",
    "    q1_count = np.sum(np.logical_and(np.less_equal(theta, sat_pos_ang), np.less(sat_pos_ang, theta+90*u.deg)))\n",
    "    q2_count = np.sum(np.logical_and(np.less_equal(theta+90*u.deg, sat_pos_ang), np.less(sat_pos_ang, theta+180*u.deg)))\n",
    "    q3_count = np.sum(np.logical_and(np.less_equal(theta+180*u.deg, sat_pos_ang), np.less(sat_pos_ang, theta+270*u.deg)))\n",
    "    q4_count = np.sum(np.less_equal(theta+270*u.deg, sat_pos_ang)) + np.sum(np.less(sat_pos_ang, theta))\n",
    "    \n",
    "    return np.array([q1_count, q2_count, q3_count, q4_count])"
   ]
  },
  {
   "cell_type": "code",
   "execution_count": 73,
   "metadata": {},
   "outputs": [],
   "source": [
    "# Create array of quadrant counts for n angles between 0 and 90 degrees\n",
    "def q_counts_array(clus_id, n):\n",
    "    new_array = np.ones(n, dtype=[('angle',float)] + [('counts',float,(4,))] + [('chi_sq',float)])\n",
    "    for i in range(n):\n",
    "        new_array['angle'][i] *= 90 - i*90/n\n",
    "        q_counts = quad_counts(clus_id, i*90/n)\n",
    "        new_array['counts'][i] *= q_counts\n",
    "        new_array['chi_sq'][i] *= stats.chisquare(q_counts)[0]\n",
    "    chi2_sort = np.argsort(new_array['chi_sq'])\n",
    "    new_array = new_array[chi2_sort]\n",
    "    \n",
    "    return new_array"
   ]
  },
  {
   "cell_type": "code",
   "execution_count": 74,
   "metadata": {},
   "outputs": [],
   "source": [
    "# Calculate second moment M_ab\n",
    "def mom_2(p, x, y, a, b):\n",
    "    mom = np.sum(p*a*b/(x**2+y**2))/np.sum(p)\n",
    "    \n",
    "    return mom"
   ]
  },
  {
   "cell_type": "code",
   "execution_count": 75,
   "metadata": {},
   "outputs": [],
   "source": [
    "# Calculate cluster position angle\n",
    "def clus_pa(clus_id):\n",
    "    sat_ra = get_sat(clus_id)['RA']\n",
    "    sat_dec = get_sat(clus_id)['DEC']\n",
    "    cent_ra = np.ones(len(sat_ra)) * get_cent(clus_id)['RA']\n",
    "    cent_dec = np.ones(len(sat_dec)) * get_cent(clus_id)['DEC']\n",
    "    p_i = get_sat(clus_id)['P'] * get_sat(clus_id)['PFREE']\n",
    "    x_i = sat_ra - cent_ra\n",
    "    y_i = sat_dec - cent_dec\n",
    "    m_xx = mom_2(p_i, x_i, y_i, x_i, x_i)\n",
    "    m_xy = mom_2(p_i, x_i, y_i, x_i, y_i)\n",
    "    m_yy = mom_2(p_i, x_i, y_i, y_i, y_i)\n",
    "    beta = np.degrees(np.arctan2(2*m_xy, (m_xx-m_yy))/2) * u.deg\n",
    "    \n",
    "    return beta"
   ]
  },
  {
   "cell_type": "code",
   "execution_count": 76,
   "metadata": {},
   "outputs": [],
   "source": [
    "# Calculate difference between cluster position angle and central galaxy position angle\n",
    "def alignment(clus_id):\n",
    "    cent_pa = pos_ang(get_cent(clus_id)['e1'], get_cent(clus_id)['e2'])\n",
    "    clust_pa = clus_pa(clus_id)\n",
    "    theta = cent_pa - clust_pa\n",
    "    theta = theta.to(u.rad)\n",
    "    theta = np.arcsin(np.sin(theta))\n",
    "    theta = np.arccos(np.cos(theta))\n",
    "    theta = theta.to(u.deg)\n",
    "    \n",
    "    return theta"
   ]
  },
  {
   "cell_type": "code",
   "execution_count": 77,
   "metadata": {},
   "outputs": [],
   "source": [
    "# Calculate alignment angle for all viable clusters\n",
    "def alignment_array():\n",
    "    cent_id = cent['MEM_MATCH_ID'].read()\n",
    "    new_array = np.ones(len(cent_id))\n",
    "    t1 = time.time()\n",
    "    for i in range(len(cent_id)):\n",
    "        new_array[i] = alignment(cent_id[i])[0].value\n",
    "        t2 = time.time()\n",
    "        print(t2-t1)\n",
    "\n",
    "    return new_array    "
   ]
  },
  {
   "cell_type": "code",
   "execution_count": null,
   "metadata": {},
   "outputs": [],
   "source": []
  }
 ],
 "metadata": {
  "kernelspec": {
   "display_name": "Python 3",
   "language": "python",
   "name": "python3"
  },
  "language_info": {
   "codemirror_mode": {
    "name": "ipython",
    "version": 3
   },
   "file_extension": ".py",
   "mimetype": "text/x-python",
   "name": "python",
   "nbconvert_exporter": "python",
   "pygments_lexer": "ipython3",
   "version": "3.6.6"
  }
 },
 "nbformat": 4,
 "nbformat_minor": 2
}
