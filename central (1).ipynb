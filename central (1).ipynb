{
 "cells": [
  {
   "cell_type": "code",
   "execution_count": 1,
   "metadata": {},
   "outputs": [],
   "source": [
    "import fitsio as fio\n",
    "import numpy as np"
   ]
  },
  {
   "cell_type": "code",
   "execution_count": 2,
   "metadata": {},
   "outputs": [],
   "source": [
    "clus = fio.FITS('/lsst/troxel/y1a1/y1a1_gold_1.0.3-d10-mof-001d_run_redmapper_v6.4.17_lgt5_desformat_catalog.fit')[-1].read() # Cluster catalog\n",
    "mem = fio.FITS('/lsst/troxel/y1a1/lgt5_member_mcal_combined.fits')[-1].read() # Member/shape catalog"
   ]
  },
  {
   "cell_type": "code",
   "execution_count": 3,
   "metadata": {},
   "outputs": [],
   "source": [
    "cent_id = clus['ID_CENT'][:,0] # First entry is the galaxy with highest P_CEN\n",
    "mem_id = mem['ID'] # Member ID column"
   ]
  },
  {
   "cell_type": "code",
   "execution_count": 4,
   "metadata": {},
   "outputs": [],
   "source": [
    "# Mask member catalog to select central galaxies\n",
    "cent_mask = np.in1d(mem_id, cent_id, assume_unique=False)\n",
    "cent = mem[cent_mask]\n",
    "r_mask = cent['R']==0.\n",
    "cent = cent[r_mask]"
   ]
  },
  {
   "cell_type": "code",
   "execution_count": 5,
   "metadata": {},
   "outputs": [],
   "source": [
    "cent_sort = np.argsort(cent['MEM_MATCH_ID'])\n",
    "cent = cent[cent_sort]"
   ]
  },
  {
   "cell_type": "code",
   "execution_count": 6,
   "metadata": {},
   "outputs": [],
   "source": [
    "fio.write('/lsst/troxel/y1a1/central_member_shapes.fits', cent, clobber=True)"
   ]
  },
  {
   "cell_type": "code",
   "execution_count": 7,
   "metadata": {},
   "outputs": [],
   "source": [
    "sat_mask = np.in1d(mem_id, cent['ID'], assume_unique=False, invert=True)\n",
    "sat = mem[sat_mask]"
   ]
  },
  {
   "cell_type": "code",
   "execution_count": 8,
   "metadata": {},
   "outputs": [],
   "source": [
    "sat_sort = np.argsort(sat['MEM_MATCH_ID'])\n",
    "sat = sat[sat_sort]"
   ]
  },
  {
   "cell_type": "code",
   "execution_count": 9,
   "metadata": {},
   "outputs": [],
   "source": [
    "fio.write('/lsst/troxel/y1a1/sat_member_shapes.fits', sat, clobber=True)"
   ]
  },
  {
   "cell_type": "code",
   "execution_count": null,
   "metadata": {},
   "outputs": [],
   "source": []
  }
 ],
 "metadata": {
  "kernelspec": {
   "display_name": "Python 3",
   "language": "python",
   "name": "python3"
  },
  "language_info": {
   "codemirror_mode": {
    "name": "ipython",
    "version": 3
   },
   "file_extension": ".py",
   "mimetype": "text/x-python",
   "name": "python",
   "nbconvert_exporter": "python",
   "pygments_lexer": "ipython3",
   "version": "3.7.2"
  }
 },
 "nbformat": 4,
 "nbformat_minor": 2
}
