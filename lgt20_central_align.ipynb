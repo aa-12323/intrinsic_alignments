{
 "cells": [
  {
   "cell_type": "code",
   "execution_count": 2,
   "metadata": {},
   "outputs": [],
   "source": [
    "import fitsio as fio\n",
    "import numpy as np\n",
    "import matplotlib.pyplot as plt\n",
    "import scipy.stats as stats"
   ]
  },
  {
   "cell_type": "code",
   "execution_count": 3,
   "metadata": {},
   "outputs": [],
   "source": [
    "cent = fio.FITS('/lsst/troxel/y1a1/lgt20_central_p80.fits')[-1] # Central galaxy catalog (with shapes)\n",
    "sat = fio.FITS('/lsst/troxel/y1a1/lgt20_satellite_p80.fits')[-1] # Satellite p_mem >= 0.8 catalog"
   ]
  },
  {
   "cell_type": "code",
   "execution_count": 4,
   "metadata": {},
   "outputs": [],
   "source": [
    "sat_id_unq, counts = np.unique(sat['MEM_MATCH_ID'].read(), return_counts=True)\n",
    "clus_n = len(sat_id_unq)\n",
    "sat_max = np.amax(counts)"
   ]
  },
  {
   "cell_type": "code",
   "execution_count": 5,
   "metadata": {},
   "outputs": [],
   "source": [
    "# Create 2D array for specified property of all satellite galaxies\n",
    "def sat_prop(prop):\n",
    "    sat_prop_full = sat[prop].read()\n",
    "    new_array = np.zeros((clus_n,sat_max))\n",
    "    k = 0\n",
    "    for i in range(clus_n):\n",
    "        new_array[i, 0:counts[i]] = sat_prop_full[k:k+counts[i]]\n",
    "        new_array[i, counts[i]:] = np.nan\n",
    "        k = k + counts[i]\n",
    "    \n",
    "    return new_array"
   ]
  },
  {
   "cell_type": "code",
   "execution_count": 6,
   "metadata": {},
   "outputs": [],
   "source": [
    "# Calculate satellite angular position for all clusters\n",
    "def sat_ang_pos():\n",
    "    sat_ra = np.radians(sat_prop('RA'))\n",
    "    sat_dec = np.radians(sat_prop('DEC'))\n",
    "    cent_ra = np.radians(cent['RA'].read().reshape(clus_n,-1))\n",
    "    cent_dec = np.radians(cent['DEC'].read().reshape(clus_n,-1))\n",
    "    x = np.sin(sat_dec) * np.cos(cent_dec) - np.cos(sat_dec) * np.sin(cent_dec) * np.cos(sat_ra-cent_ra)\n",
    "    y = np.sin(sat_ra-cent_ra) * np.cos(sat_dec)\n",
    "    theta = np.arctan2(y, x)\n",
    "    \n",
    "    return theta"
   ]
  },
  {
   "cell_type": "code",
   "execution_count": 7,
   "metadata": {},
   "outputs": [],
   "source": [
    "# Calculate position angle\n",
    "def pos_ang(e1, e2):\n",
    "    alpha = np.arctan2(-e2, -e1)/2\n",
    "    \n",
    "    return alpha"
   ]
  },
  {
   "cell_type": "code",
   "execution_count": 8,
   "metadata": {},
   "outputs": [],
   "source": [
    "# Calculate central galaxy alignment angle for all clusters\n",
    "def cent_gal_ang():\n",
    "    sat_ang = sat_ang_pos()\n",
    "    cent_ang = pos_ang(cent['e1'].read(), cent['e2'].read()).reshape(clus_n,-1)\n",
    "    delta = sat_ang - cent_ang\n",
    "    delta = np.arcsin(np.abs(np.sin(delta)))\n",
    "    delta = np.degrees(delta)\n",
    "    \n",
    "    return delta"
   ]
  },
  {
   "cell_type": "code",
   "execution_count": 9,
   "metadata": {},
   "outputs": [
    {
     "data": {
      "image/png": "[encoded data removed]",
      "text/plain": [
       "<Figure size 432x288 with 1 Axes>"
      ]
     },
     "metadata": {
      "needs_background": "light"
     },
     "output_type": "display_data"
    }
   ],
   "source": [
    "# Flatten central galaxy alignment angle array and plot histogram (with standard error of the mean)\n",
    "cent_align = cent_gal_ang()\n",
    "mask = ~np.isnan(cent_align)\n",
    "cent_align = cent_align[mask]\n",
    "n, bins = np.histogram(cent_align, bins=[0.,9.,18.,27.,36.,45.,54.,63.,72.,81., 90.])\n",
    "k = 0\n",
    "new_array = np.zeros(10)\n",
    "for i in range(10):\n",
    "    bin_i = cent_align[k:k+n[i]]\n",
    "    std_i = np.std(bin_i)\n",
    "    sem_i = std_i/np.sqrt(n[i])\n",
    "    new_array[i] = sem_i\n",
    "    k = k + n[i]\n",
    "plt.errorbar(bins[0:10]+5., n/len(sat['ID'].read()), yerr=new_array/len(sat['ID'].read()), fmt='bo', capsize=4)\n",
    "plt.xlabel('Central Galaxy Alignment Angle')\n",
    "plt.ylabel('Fraction of Central-Satellite Pairs')\n",
    "plt.show()"
   ]
  },
  {
   "cell_type": "code",
   "execution_count": 10,
   "metadata": {},
   "outputs": [
    {
     "data": {
      "text/plain": [
       "42.204660272021684"
      ]
     },
     "execution_count": 10,
     "metadata": {},
     "output_type": "execute_result"
    }
   ],
   "source": [
    "np.mean(cent_align)"
   ]
  },
  {
   "cell_type": "code",
   "execution_count": 12,
   "metadata": {},
   "outputs": [
    {
     "data": {
      "text/plain": [
       "(240925,)"
      ]
     },
     "execution_count": 12,
     "metadata": {},
     "output_type": "execute_result"
    }
   ],
   "source": [
    "cent_align.shape"
   ]
  },
  {
   "cell_type": "code",
   "execution_count": 18,
   "metadata": {},
   "outputs": [],
   "source": [
    "np.save('/lsst/troxel/y1a1/lgt20_central_alignment.npy', cent_align)"
   ]
  },
  {
   "cell_type": "code",
   "execution_count": null,
   "metadata": {},
   "outputs": [],
   "source": []
  }
 ],
 "metadata": {
  "kernelspec": {
   "display_name": "Python 3",
   "language": "python",
   "name": "python3"
  },
  "language_info": {
   "codemirror_mode": {
    "name": "ipython",
    "version": 3
   },
   "file_extension": ".py",
   "mimetype": "text/x-python",
   "name": "python",
   "nbconvert_exporter": "python",
   "pygments_lexer": "ipython3",
   "version": "3.7.2"
  }
 },
 "nbformat": 4,
 "nbformat_minor": 2
}
